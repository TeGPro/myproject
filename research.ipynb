{
 "cells": [
  {
   "metadata": {
    "ExecuteTime": {
     "end_time": "2025-04-05T15:33:45.643578Z",
     "start_time": "2025-04-05T15:33:44.459329Z"
    }
   },
   "cell_type": "code",
   "source": [
    "import pandas as pd\n",
    "\n",
    "from matplotlib import pyplot as plt\n",
    "from sklearn.preprocessing import OneHotEncoder\n",
    "from sklearn.ensemble import RandomForestClassifier\n",
    "from sklearn.linear_model import LogisticRegression\n",
    "from sklearn.neural_network import MLPClassifier\n",
    "from sklearn.model_selection import cross_val_score\n",
    "from sklearn.metrics import roc_auc_score"
   ],
   "id": "4e2ec9b1816059c9",
   "outputs": [],
   "execution_count": 2
  },
  {
   "metadata": {
    "ExecuteTime": {
     "end_time": "2025-04-02T10:10:37.369222Z",
     "start_time": "2025-04-02T10:10:32.317015Z"
    }
   },
   "cell_type": "code",
   "source": [
    "df = pd.read_csv('data/ga_sessions.csv', low_memory=False, index_col=0)\n",
    "df.head()"
   ],
   "id": "16683e8a9057ef37",
   "outputs": [
    {
     "data": {
      "text/plain": [
       "                                                       client_id  visit_date  \\\n",
       "session_id                                                                     \n",
       "9055434745589932991.1637753792.1637753792  2108382700.1637753791  2021-11-24   \n",
       "905544597018549464.1636867290.1636867290    210838531.1636867288  2021-11-14   \n",
       "9055446045651783499.1640648526.1640648526  2108385331.1640648523  2021-12-28   \n",
       "9055447046360770272.1622255328.1622255328  2108385564.1622255328  2021-05-29   \n",
       "9055447046360770272.1622255345.1622255345  2108385564.1622255328  2021-05-29   \n",
       "\n",
       "                                          visit_time  visit_number  \\\n",
       "session_id                                                           \n",
       "9055434745589932991.1637753792.1637753792   14:36:32             1   \n",
       "905544597018549464.1636867290.1636867290    08:21:30             1   \n",
       "9055446045651783499.1640648526.1640648526   02:42:06             1   \n",
       "9055447046360770272.1622255328.1622255328   05:00:00             1   \n",
       "9055447046360770272.1622255345.1622255345   05:00:00             2   \n",
       "\n",
       "                                                     utm_source utm_medium  \\\n",
       "session_id                                                                   \n",
       "9055434745589932991.1637753792.1637753792  ZpYIoDJMcFzVoPFsHGJL     banner   \n",
       "905544597018549464.1636867290.1636867290   MvfHsxITijuriZxsqZqt        cpm   \n",
       "9055446045651783499.1640648526.1640648526  ZpYIoDJMcFzVoPFsHGJL     banner   \n",
       "9055447046360770272.1622255328.1622255328  kjsLglQLzykiRbcDiGcD        cpc   \n",
       "9055447046360770272.1622255345.1622255345  kjsLglQLzykiRbcDiGcD        cpc   \n",
       "\n",
       "                                                   utm_campaign  \\\n",
       "session_id                                                        \n",
       "9055434745589932991.1637753792.1637753792  LEoPHuyFvzoNfnzGgfcd   \n",
       "905544597018549464.1636867290.1636867290   FTjNLDyTrXaWYgZymFkV   \n",
       "9055446045651783499.1640648526.1640648526  LEoPHuyFvzoNfnzGgfcd   \n",
       "9055447046360770272.1622255328.1622255328                   NaN   \n",
       "9055447046360770272.1622255345.1622255345                   NaN   \n",
       "\n",
       "                                                  utm_adcontent  \\\n",
       "session_id                                                        \n",
       "9055434745589932991.1637753792.1637753792  vCIpmpaGBnIQhyYNkXqp   \n",
       "905544597018549464.1636867290.1636867290   xhoenQgDQsgfEPYNPwKO   \n",
       "9055446045651783499.1640648526.1640648526  vCIpmpaGBnIQhyYNkXqp   \n",
       "9055447046360770272.1622255328.1622255328  NOBKLgtuvqYWkXQHeYWM   \n",
       "9055447046360770272.1622255345.1622255345                   NaN   \n",
       "\n",
       "                                                    utm_keyword  \\\n",
       "session_id                                                        \n",
       "9055434745589932991.1637753792.1637753792  puhZPIYqKXeFPaUviSjo   \n",
       "905544597018549464.1636867290.1636867290   IGUCNvHlhfHpROGclCit   \n",
       "9055446045651783499.1640648526.1640648526  puhZPIYqKXeFPaUviSjo   \n",
       "9055447046360770272.1622255328.1622255328                   NaN   \n",
       "9055447046360770272.1622255345.1622255345                   NaN   \n",
       "\n",
       "                                          device_category device_os  \\\n",
       "session_id                                                            \n",
       "9055434745589932991.1637753792.1637753792          mobile   Android   \n",
       "905544597018549464.1636867290.1636867290           mobile   Android   \n",
       "9055446045651783499.1640648526.1640648526          mobile   Android   \n",
       "9055447046360770272.1622255328.1622255328          mobile       NaN   \n",
       "9055447046360770272.1622255345.1622255345          mobile       NaN   \n",
       "\n",
       "                                          device_brand device_model  \\\n",
       "session_id                                                            \n",
       "9055434745589932991.1637753792.1637753792       Huawei          NaN   \n",
       "905544597018549464.1636867290.1636867290       Samsung          NaN   \n",
       "9055446045651783499.1640648526.1640648526       Huawei          NaN   \n",
       "9055447046360770272.1622255328.1622255328       Xiaomi          NaN   \n",
       "9055447046360770272.1622255345.1622255345       Xiaomi          NaN   \n",
       "\n",
       "                                          device_screen_resolution  \\\n",
       "session_id                                                           \n",
       "9055434745589932991.1637753792.1637753792                  360x720   \n",
       "905544597018549464.1636867290.1636867290                   385x854   \n",
       "9055446045651783499.1640648526.1640648526                  360x720   \n",
       "9055447046360770272.1622255328.1622255328                  393x786   \n",
       "9055447046360770272.1622255345.1622255345                  393x786   \n",
       "\n",
       "                                             device_browser geo_country  \\\n",
       "session_id                                                                \n",
       "9055434745589932991.1637753792.1637753792            Chrome      Russia   \n",
       "905544597018549464.1636867290.1636867290   Samsung Internet      Russia   \n",
       "9055446045651783499.1640648526.1640648526            Chrome      Russia   \n",
       "9055447046360770272.1622255328.1622255328            Chrome      Russia   \n",
       "9055447046360770272.1622255345.1622255345            Chrome      Russia   \n",
       "\n",
       "                                              geo_city  \n",
       "session_id                                              \n",
       "9055434745589932991.1637753792.1637753792     Zlatoust  \n",
       "905544597018549464.1636867290.1636867290        Moscow  \n",
       "9055446045651783499.1640648526.1640648526  Krasnoyarsk  \n",
       "9055447046360770272.1622255328.1622255328       Moscow  \n",
       "9055447046360770272.1622255345.1622255345       Moscow  "
      ],
      "text/html": [
       "<div>\n",
       "<style scoped>\n",
       "    .dataframe tbody tr th:only-of-type {\n",
       "        vertical-align: middle;\n",
       "    }\n",
       "\n",
       "    .dataframe tbody tr th {\n",
       "        vertical-align: top;\n",
       "    }\n",
       "\n",
       "    .dataframe thead th {\n",
       "        text-align: right;\n",
       "    }\n",
       "</style>\n",
       "<table border=\"1\" class=\"dataframe\">\n",
       "  <thead>\n",
       "    <tr style=\"text-align: right;\">\n",
       "      <th></th>\n",
       "      <th>client_id</th>\n",
       "      <th>visit_date</th>\n",
       "      <th>visit_time</th>\n",
       "      <th>visit_number</th>\n",
       "      <th>utm_source</th>\n",
       "      <th>utm_medium</th>\n",
       "      <th>utm_campaign</th>\n",
       "      <th>utm_adcontent</th>\n",
       "      <th>utm_keyword</th>\n",
       "      <th>device_category</th>\n",
       "      <th>device_os</th>\n",
       "      <th>device_brand</th>\n",
       "      <th>device_model</th>\n",
       "      <th>device_screen_resolution</th>\n",
       "      <th>device_browser</th>\n",
       "      <th>geo_country</th>\n",
       "      <th>geo_city</th>\n",
       "    </tr>\n",
       "    <tr>\n",
       "      <th>session_id</th>\n",
       "      <th></th>\n",
       "      <th></th>\n",
       "      <th></th>\n",
       "      <th></th>\n",
       "      <th></th>\n",
       "      <th></th>\n",
       "      <th></th>\n",
       "      <th></th>\n",
       "      <th></th>\n",
       "      <th></th>\n",
       "      <th></th>\n",
       "      <th></th>\n",
       "      <th></th>\n",
       "      <th></th>\n",
       "      <th></th>\n",
       "      <th></th>\n",
       "      <th></th>\n",
       "    </tr>\n",
       "  </thead>\n",
       "  <tbody>\n",
       "    <tr>\n",
       "      <th>9055434745589932991.1637753792.1637753792</th>\n",
       "      <td>2108382700.1637753791</td>\n",
       "      <td>2021-11-24</td>\n",
       "      <td>14:36:32</td>\n",
       "      <td>1</td>\n",
       "      <td>ZpYIoDJMcFzVoPFsHGJL</td>\n",
       "      <td>banner</td>\n",
       "      <td>LEoPHuyFvzoNfnzGgfcd</td>\n",
       "      <td>vCIpmpaGBnIQhyYNkXqp</td>\n",
       "      <td>puhZPIYqKXeFPaUviSjo</td>\n",
       "      <td>mobile</td>\n",
       "      <td>Android</td>\n",
       "      <td>Huawei</td>\n",
       "      <td>NaN</td>\n",
       "      <td>360x720</td>\n",
       "      <td>Chrome</td>\n",
       "      <td>Russia</td>\n",
       "      <td>Zlatoust</td>\n",
       "    </tr>\n",
       "    <tr>\n",
       "      <th>905544597018549464.1636867290.1636867290</th>\n",
       "      <td>210838531.1636867288</td>\n",
       "      <td>2021-11-14</td>\n",
       "      <td>08:21:30</td>\n",
       "      <td>1</td>\n",
       "      <td>MvfHsxITijuriZxsqZqt</td>\n",
       "      <td>cpm</td>\n",
       "      <td>FTjNLDyTrXaWYgZymFkV</td>\n",
       "      <td>xhoenQgDQsgfEPYNPwKO</td>\n",
       "      <td>IGUCNvHlhfHpROGclCit</td>\n",
       "      <td>mobile</td>\n",
       "      <td>Android</td>\n",
       "      <td>Samsung</td>\n",
       "      <td>NaN</td>\n",
       "      <td>385x854</td>\n",
       "      <td>Samsung Internet</td>\n",
       "      <td>Russia</td>\n",
       "      <td>Moscow</td>\n",
       "    </tr>\n",
       "    <tr>\n",
       "      <th>9055446045651783499.1640648526.1640648526</th>\n",
       "      <td>2108385331.1640648523</td>\n",
       "      <td>2021-12-28</td>\n",
       "      <td>02:42:06</td>\n",
       "      <td>1</td>\n",
       "      <td>ZpYIoDJMcFzVoPFsHGJL</td>\n",
       "      <td>banner</td>\n",
       "      <td>LEoPHuyFvzoNfnzGgfcd</td>\n",
       "      <td>vCIpmpaGBnIQhyYNkXqp</td>\n",
       "      <td>puhZPIYqKXeFPaUviSjo</td>\n",
       "      <td>mobile</td>\n",
       "      <td>Android</td>\n",
       "      <td>Huawei</td>\n",
       "      <td>NaN</td>\n",
       "      <td>360x720</td>\n",
       "      <td>Chrome</td>\n",
       "      <td>Russia</td>\n",
       "      <td>Krasnoyarsk</td>\n",
       "    </tr>\n",
       "    <tr>\n",
       "      <th>9055447046360770272.1622255328.1622255328</th>\n",
       "      <td>2108385564.1622255328</td>\n",
       "      <td>2021-05-29</td>\n",
       "      <td>05:00:00</td>\n",
       "      <td>1</td>\n",
       "      <td>kjsLglQLzykiRbcDiGcD</td>\n",
       "      <td>cpc</td>\n",
       "      <td>NaN</td>\n",
       "      <td>NOBKLgtuvqYWkXQHeYWM</td>\n",
       "      <td>NaN</td>\n",
       "      <td>mobile</td>\n",
       "      <td>NaN</td>\n",
       "      <td>Xiaomi</td>\n",
       "      <td>NaN</td>\n",
       "      <td>393x786</td>\n",
       "      <td>Chrome</td>\n",
       "      <td>Russia</td>\n",
       "      <td>Moscow</td>\n",
       "    </tr>\n",
       "    <tr>\n",
       "      <th>9055447046360770272.1622255345.1622255345</th>\n",
       "      <td>2108385564.1622255328</td>\n",
       "      <td>2021-05-29</td>\n",
       "      <td>05:00:00</td>\n",
       "      <td>2</td>\n",
       "      <td>kjsLglQLzykiRbcDiGcD</td>\n",
       "      <td>cpc</td>\n",
       "      <td>NaN</td>\n",
       "      <td>NaN</td>\n",
       "      <td>NaN</td>\n",
       "      <td>mobile</td>\n",
       "      <td>NaN</td>\n",
       "      <td>Xiaomi</td>\n",
       "      <td>NaN</td>\n",
       "      <td>393x786</td>\n",
       "      <td>Chrome</td>\n",
       "      <td>Russia</td>\n",
       "      <td>Moscow</td>\n",
       "    </tr>\n",
       "  </tbody>\n",
       "</table>\n",
       "</div>"
      ]
     },
     "execution_count": 81,
     "metadata": {},
     "output_type": "execute_result"
    }
   ],
   "execution_count": 81
  },
  {
   "metadata": {
    "ExecuteTime": {
     "end_time": "2025-04-02T10:10:37.396141Z",
     "start_time": "2025-04-02T10:10:37.392972Z"
    }
   },
   "cell_type": "code",
   "source": "df.shape",
   "id": "75b0b17c8986efc6",
   "outputs": [
    {
     "data": {
      "text/plain": [
       "(1860042, 17)"
      ]
     },
     "execution_count": 82,
     "metadata": {},
     "output_type": "execute_result"
    }
   ],
   "execution_count": 82
  },
  {
   "metadata": {
    "ExecuteTime": {
     "end_time": "2025-04-02T10:10:38.718006Z",
     "start_time": "2025-04-02T10:10:37.421164Z"
    }
   },
   "cell_type": "code",
   "source": "df.duplicated().sum()",
   "id": "d9ac571a4c6f5481",
   "outputs": [
    {
     "data": {
      "text/plain": [
       "np.int64(0)"
      ]
     },
     "execution_count": 83,
     "metadata": {},
     "output_type": "execute_result"
    }
   ],
   "execution_count": 83
  },
  {
   "metadata": {
    "ExecuteTime": {
     "end_time": "2025-04-02T10:10:38.803160Z",
     "start_time": "2025-04-02T10:10:38.721908Z"
    }
   },
   "cell_type": "code",
   "source": "df_copy = df.copy()",
   "id": "dca8d29268931a05",
   "outputs": [],
   "execution_count": 84
  },
  {
   "metadata": {
    "ExecuteTime": {
     "end_time": "2025-04-02T10:10:39.361023Z",
     "start_time": "2025-04-02T10:10:38.824198Z"
    }
   },
   "cell_type": "code",
   "source": "df_copy.isnull().sum().sort_values(ascending=False)",
   "id": "2bd12eea1260134a",
   "outputs": [
    {
     "data": {
      "text/plain": [
       "device_model                1843704\n",
       "utm_keyword                 1082061\n",
       "device_os                   1070138\n",
       "device_brand                 367178\n",
       "utm_adcontent                335615\n",
       "utm_campaign                 219603\n",
       "utm_source                       97\n",
       "geo_country                       0\n",
       "device_browser                    0\n",
       "device_screen_resolution          0\n",
       "client_id                         0\n",
       "device_category                   0\n",
       "visit_date                        0\n",
       "utm_medium                        0\n",
       "visit_number                      0\n",
       "visit_time                        0\n",
       "geo_city                          0\n",
       "dtype: int64"
      ]
     },
     "execution_count": 85,
     "metadata": {},
     "output_type": "execute_result"
    }
   ],
   "execution_count": 85
  },
  {
   "metadata": {
    "ExecuteTime": {
     "end_time": "2025-04-02T10:10:39.920643Z",
     "start_time": "2025-04-02T10:10:39.380199Z"
    }
   },
   "cell_type": "code",
   "source": [
    "def null_percentage(df):\n",
    "    null_count = df.isnull().sum()\n",
    "    return null_count / len(df) * 100\n",
    "\n",
    "null_percentage(df_copy).sort_values(ascending=False)"
   ],
   "id": "1d0b1c35c4b6a3d2",
   "outputs": [
    {
     "data": {
      "text/plain": [
       "device_model                99.121633\n",
       "utm_keyword                 58.174009\n",
       "device_os                   57.533002\n",
       "device_brand                19.740307\n",
       "utm_adcontent               18.043410\n",
       "utm_campaign                11.806346\n",
       "utm_source                   0.005215\n",
       "geo_country                  0.000000\n",
       "device_browser               0.000000\n",
       "device_screen_resolution     0.000000\n",
       "client_id                    0.000000\n",
       "device_category              0.000000\n",
       "visit_date                   0.000000\n",
       "utm_medium                   0.000000\n",
       "visit_number                 0.000000\n",
       "visit_time                   0.000000\n",
       "geo_city                     0.000000\n",
       "dtype: float64"
      ]
     },
     "execution_count": 86,
     "metadata": {},
     "output_type": "execute_result"
    }
   ],
   "execution_count": 86
  },
  {
   "metadata": {
    "ExecuteTime": {
     "end_time": "2025-04-02T10:10:40.030044Z",
     "start_time": "2025-04-02T10:10:39.954946Z"
    }
   },
   "cell_type": "code",
   "source": "df.utm_keyword.describe()",
   "id": "f82848cc921dd593",
   "outputs": [
    {
     "data": {
      "text/plain": [
       "count                   777981\n",
       "unique                    1219\n",
       "top       puhZPIYqKXeFPaUviSjo\n",
       "freq                    506819\n",
       "Name: utm_keyword, dtype: object"
      ]
     },
     "execution_count": 87,
     "metadata": {},
     "output_type": "execute_result"
    }
   ],
   "execution_count": 87
  },
  {
   "metadata": {
    "ExecuteTime": {
     "end_time": "2025-04-02T10:10:40.144190Z",
     "start_time": "2025-04-02T10:10:40.063121Z"
    }
   },
   "cell_type": "code",
   "source": "df.utm_adcontent.describe()",
   "id": "e56441cd7e79099a",
   "outputs": [
    {
     "data": {
      "text/plain": [
       "count                  1524427\n",
       "unique                     286\n",
       "top       JNHcPlZPxEMWDnRiyoBf\n",
       "freq                   1006599\n",
       "Name: utm_adcontent, dtype: object"
      ]
     },
     "execution_count": 88,
     "metadata": {},
     "output_type": "execute_result"
    }
   ],
   "execution_count": 88
  },
  {
   "metadata": {
    "ExecuteTime": {
     "end_time": "2025-04-02T10:10:40.259813Z",
     "start_time": "2025-04-02T10:10:40.177008Z"
    }
   },
   "cell_type": "code",
   "source": "df.utm_campaign.describe()",
   "id": "39b293c4de819fc9",
   "outputs": [
    {
     "data": {
      "text/plain": [
       "count                  1640439\n",
       "unique                     412\n",
       "top       LTuZkdKfxRGVceoWkVyg\n",
       "freq                    463481\n",
       "Name: utm_campaign, dtype: object"
      ]
     },
     "execution_count": 89,
     "metadata": {},
     "output_type": "execute_result"
    }
   ],
   "execution_count": 89
  },
  {
   "metadata": {
    "ExecuteTime": {
     "end_time": "2025-04-02T10:10:40.367825Z",
     "start_time": "2025-04-02T10:10:40.292796Z"
    }
   },
   "cell_type": "code",
   "source": "df_copy.device_os.describe()",
   "id": "f183a97f6c3b40e7",
   "outputs": [
    {
     "data": {
      "text/plain": [
       "count      789904\n",
       "unique         13\n",
       "top       Android\n",
       "freq       464054\n",
       "Name: device_os, dtype: object"
      ]
     },
     "execution_count": 90,
     "metadata": {},
     "output_type": "execute_result"
    }
   ],
   "execution_count": 90
  },
  {
   "metadata": {
    "ExecuteTime": {
     "end_time": "2025-04-02T10:10:40.430012Z",
     "start_time": "2025-04-02T10:10:40.400814Z"
    }
   },
   "cell_type": "code",
   "source": "df_copy.device_os.unique()",
   "id": "d9bc215f0de63e85",
   "outputs": [
    {
     "data": {
      "text/plain": [
       "array(['Android', nan, 'iOS', 'Windows', 'Linux', 'Macintosh',\n",
       "       '(not set)', 'Chrome OS', 'BlackBerry', 'Tizen', 'Firefox OS',\n",
       "       'Samsung', 'Windows Phone', 'Nokia'], dtype=object)"
      ]
     },
     "execution_count": 91,
     "metadata": {},
     "output_type": "execute_result"
    }
   ],
   "execution_count": 91
  },
  {
   "metadata": {
    "ExecuteTime": {
     "end_time": "2025-04-02T10:10:40.495440Z",
     "start_time": "2025-04-02T10:10:40.470011Z"
    }
   },
   "cell_type": "code",
   "source": "df_copy.device_brand.unique()",
   "id": "dad95008f21d772c",
   "outputs": [
    {
     "data": {
      "text/plain": [
       "array(['Huawei', 'Samsung', 'Xiaomi', 'Apple', 'Lenovo', nan, 'Vivo',\n",
       "       'Meizu', 'OnePlus', '(not set)', 'BQ', 'Realme', 'OPPO', 'itel',\n",
       "       'Philips', 'Nokia', 'Alcatel', 'LG', 'Tecno', 'Asus', 'Infinix',\n",
       "       'Sony', 'ZTE', 'Wiko', 'Google', 'Micromax', 'Blackview',\n",
       "       'Oukitel', 'Wileyfox', 'Motorola', 'HOMTOM', 'Cubot', 'DOOGEE',\n",
       "       'China Phone', 'DEXP', 'Neffos', 'TP-Link', 'Hisense', 'Acer',\n",
       "       'Vsmart', 'BlackBerry', 'Umidigi', 'Leagoo', 'Highscreen',\n",
       "       'Ulefone', 'HTC', 'Symphony', 'LeEco', 'Prestigio', 'POCO',\n",
       "       'Vestel', 'Guophone', 'Vertex', 'CAT', 'InFocus', 'TCL',\n",
       "       'SonyEricsson', 'Inoi', 'Nomu', 'Sharp', 'Jiake', 'ZOJI', 'Yuntab',\n",
       "       'Mozilla', 'Vernee', 'Tele2', 'H96', 'Kyocera', 'Karbonn', 'BLU',\n",
       "       'Haier', 'Kingplay', 'Coolpad', 'MTC', 'LeTV', 'iNew', 'A1',\n",
       "       'Gionee', 'General Mobile', 'Digma', 'Yota Devices', 'Gome',\n",
       "       'Egreat', 'Kata', 'Mito', 'Poptel', 'Flylion', 'AGM', 'SenseIT',\n",
       "       'Archos', 'Teclast', 'Fly', 'MLS', 'Keecoo', 'Panasonic', 'InnJoo',\n",
       "       'Iris', 'Itoos', 'Black Fox', 'Nuu', 'Celkon', 'Chuwi', 'Walton',\n",
       "       'Xiaolajiao', 'Lava', 'myPhone', 'Condor', 'Razer', 'Microsoft',\n",
       "       'Fujitsu', 'Alldocube', 'UGOOS', 'Amazon', 'PPTV', 'Pantech',\n",
       "       'Oysters', 'NOA', 'Komu', 'Caterpillar', 'Qbex', 'Wigor',\n",
       "       'Verizon', 'Artel', 'Ananda', 'Smartisan', 'Elephone', 'RCA',\n",
       "       'Cube', 'Flexymove', 'AT&T', 'Advan', 'Fairphone', 'Corn',\n",
       "       'Tonbux', 'TurboPad', 'Dark', 'T-Mobile', 'China Mobile',\n",
       "       'Smartfren', 'MXQ', 'Billion', 'teXet', 'MTS', 'Geotel', 'BLUBOO',\n",
       "       'INUI', 'Hafury', 'Krip', 'MediaTek', 'Digiland', 'KingSing',\n",
       "       'Unihertz', 'Ark', 'Essential', 'Dragon Touch', 'E&L', 'Fero',\n",
       "       'Land Rover', 'Tanix', 'Vertu', 'Mlais', 'Ken Xin Da', 'Beelink',\n",
       "       'Orbic', 'Irbis', 'Honeywell', 'RED', 'QMobile', 'Sonim', 'Jiayu',\n",
       "       'Evertek', 'Gretel', 'Leegoog', 'China TVBox', 'Tesla', 'Vodafone',\n",
       "       'Explay', 'Evercoss', 'Honor', 'Wexler', 'Smarteo', 'Olla', 'Star',\n",
       "       'UMI', 'Mobiistar', 'ThL', 'Ellipsis', 'Xgody', 'LTC', 'Motive',\n",
       "       'Wieppo', 'M-HORSE', 'Winnovo', 'Nomi', 'Wings Mobile', 'How',\n",
       "       'Centric', 'Gigaset', 'Maze', 'Dell', 'Kenxinda', 'Tagital',\n",
       "       'Dynamic', 'FREETEL', 'Maxvi', 'Opera'], dtype=object)"
      ]
     },
     "execution_count": 92,
     "metadata": {},
     "output_type": "execute_result"
    }
   ],
   "execution_count": 92
  },
  {
   "metadata": {
    "ExecuteTime": {
     "end_time": "2025-04-02T10:10:40.571334Z",
     "start_time": "2025-04-02T10:10:40.531256Z"
    }
   },
   "cell_type": "code",
   "source": "df_copy.device_os.value_counts().sort_values(ascending=False)",
   "id": "b783edee985b5386",
   "outputs": [
    {
     "data": {
      "text/plain": [
       "device_os\n",
       "Android          464054\n",
       "iOS              207104\n",
       "Windows           88307\n",
       "Macintosh         24824\n",
       "Linux              5120\n",
       "(not set)           364\n",
       "Chrome OS            83\n",
       "BlackBerry           27\n",
       "Tizen                 7\n",
       "Samsung               4\n",
       "Windows Phone         4\n",
       "Firefox OS            3\n",
       "Nokia                 3\n",
       "Name: count, dtype: int64"
      ]
     },
     "execution_count": 93,
     "metadata": {},
     "output_type": "execute_result"
    }
   ],
   "execution_count": 93
  },
  {
   "metadata": {
    "ExecuteTime": {
     "end_time": "2025-04-02T10:10:40.678924Z",
     "start_time": "2025-04-02T10:10:40.597554Z"
    }
   },
   "cell_type": "code",
   "source": "df.device_brand.describe()",
   "id": "978b799aab82daad",
   "outputs": [
    {
     "data": {
      "text/plain": [
       "count     1492864\n",
       "unique        205\n",
       "top         Apple\n",
       "freq       551088\n",
       "Name: device_brand, dtype: object"
      ]
     },
     "execution_count": 94,
     "metadata": {},
     "output_type": "execute_result"
    }
   ],
   "execution_count": 94
  },
  {
   "metadata": {
    "ExecuteTime": {
     "end_time": "2025-04-02T10:10:41.798606Z",
     "start_time": "2025-04-02T10:10:40.713093Z"
    }
   },
   "cell_type": "code",
   "source": [
    "# Заполняем utm_keyword, utm_adcontent, utm_content самым часто встречающимся значением\n",
    "df_copy.utm_keyword = df_copy.utm_keyword.fillna(int(df.utm_keyword.value_counts().iloc[0]))\n",
    "df_copy.utm_adcontent = df_copy.utm_adcontent.fillna(int(df.utm_adcontent.value_counts().iloc[0]))\n",
    "df_copy.utm_campaign = df_copy.utm_campaign.fillna(int(df.utm_campaign.value_counts().iloc[0]))\n",
    "# Все строки с нулевым значением utm_source можем удалить, так как это слишком маленький процент от всей выборки\n",
    "df_copy = df_copy[df_copy.utm_source.notnull()]\n",
    "# Столбец device_model мы удалим, так как процент пропущенных значений слишком велик, так же как и столбцы с значениями, которые мы в дальнейшем не будем использовать для предсказаний\n",
    "df_copy = df_copy.drop(['device_model', 'client_id', 'visit_date', 'visit_time', 'visit_number'], axis=1)\n",
    "# Пропущенные значения в device_brand заполним как other\n",
    "df_copy.device_brand = df_copy.device_brand.fillna('other')\n",
    "# Так как страна, на которой мы распространяем продукт - Россия"
   ],
   "id": "abc5e47873a310e8",
   "outputs": [],
   "execution_count": 95
  },
  {
   "metadata": {
    "ExecuteTime": {
     "end_time": "2025-04-02T10:10:46.191568Z",
     "start_time": "2025-04-02T10:10:41.814098Z"
    }
   },
   "cell_type": "code",
   "source": [
    "# Заполняем столбец device_os, основываясь на производителе устройства. (Это можно отнести в создание фич, но мне кажется6 что оно уместнее будет здесь)\n",
    "\n",
    "android_brands = [\n",
    "    'Huawei', 'Samsung', 'Xiaomi', 'Lenovo', 'Vivo', 'Meizu', 'OnePlus',\n",
    "    'Realme', 'OPPO', 'itel', 'Tecno', 'Infinix', 'ZTE', 'Wiko', 'Google',\n",
    "    'Micromax', 'Blackview', 'Oukitel', 'Motorola', 'HOMTOM', 'Cubot',\n",
    "    'DOOGEE', 'DEXP', 'Neffos', 'Hisense', 'Umidigi', 'Leagoo', 'Ulefone',\n",
    "    'HTC', 'LeEco', 'Prestigio', 'POCO', 'TCL', 'Inoi', 'Nomu', 'Vernee',\n",
    "    'BLU', 'Haier', 'Coolpad', 'Gionee', 'Digma', 'Archos', 'Black Fox',\n",
    "    'Lava', 'Condor', 'Honor', 'Redmi', 'InFocus', 'Sharp', 'BQ', 'Philips',\n",
    "    'Nokia', 'Alcatel', 'Sony', 'Wileyfox', 'Fairphone', 'Vsmart', 'AGM',\n",
    "    'UMI', 'ThL', 'Xgody', 'Mobiistar', 'Evertek', 'Vertex', 'Jiayu',\n",
    "    'Leegoog', 'Smartisan', 'Chuwi', 'Walton', 'Xiaolajiao', 'myPhone'\n",
    "]\n",
    "\n",
    "pc_brands = [\n",
    "    'Dell', 'HP', 'Acer', 'MSI', 'Toshiba', 'Fujitsu', 'Panasonic',\n",
    "    'Medion', 'Clevo', 'Vaio', 'IBM', 'Framework', 'System76', 'Gateway',\n",
    "    'Digma', 'Teclast', 'Chuwi', 'Dell', 'Fujitsu', 'Medion', 'Clevo',\n",
    "    'Vaio', 'IBM', 'Framework', 'System76', 'Gateway', 'Digma', 'Teclast'\n",
    "]\n",
    "\n",
    "def classify_device(row):\n",
    "    brand = row['device_brand']\n",
    "\n",
    "    if brand in pc_brands:\n",
    "        return 'PC'\n",
    "    if brand == 'Apple':\n",
    "        return 'iOS'\n",
    "    elif brand in android_brands:\n",
    "        return 'Android'\n",
    "    else:\n",
    "        return 'other'\n",
    "\n",
    "df_copy['device_os'] = df_copy.apply(classify_device, axis=1)"
   ],
   "id": "6715a95af375072d",
   "outputs": [],
   "execution_count": 96
  },
  {
   "metadata": {
    "ExecuteTime": {
     "end_time": "2025-04-02T10:10:46.616062Z",
     "start_time": "2025-04-02T10:10:46.197508Z"
    }
   },
   "cell_type": "code",
   "source": "df_copy.isnull().sum().sort_values(ascending=False)",
   "id": "b1deb133aa077588",
   "outputs": [
    {
     "data": {
      "text/plain": [
       "utm_source                  0\n",
       "utm_medium                  0\n",
       "utm_campaign                0\n",
       "utm_adcontent               0\n",
       "utm_keyword                 0\n",
       "device_category             0\n",
       "device_os                   0\n",
       "device_brand                0\n",
       "device_screen_resolution    0\n",
       "device_browser              0\n",
       "geo_country                 0\n",
       "geo_city                    0\n",
       "dtype: int64"
      ]
     },
     "execution_count": 97,
     "metadata": {},
     "output_type": "execute_result"
    }
   ],
   "execution_count": 97
  },
  {
   "metadata": {
    "ExecuteTime": {
     "end_time": "2025-04-02T10:10:46.645060Z",
     "start_time": "2025-04-02T10:10:46.641469Z"
    }
   },
   "cell_type": "code",
   "source": "df_copy.dtypes",
   "id": "a7a080191eb527fa",
   "outputs": [
    {
     "data": {
      "text/plain": [
       "utm_source                  object\n",
       "utm_medium                  object\n",
       "utm_campaign                object\n",
       "utm_adcontent               object\n",
       "utm_keyword                 object\n",
       "device_category             object\n",
       "device_os                   object\n",
       "device_brand                object\n",
       "device_screen_resolution    object\n",
       "device_browser              object\n",
       "geo_country                 object\n",
       "geo_city                    object\n",
       "dtype: object"
      ]
     },
     "execution_count": 98,
     "metadata": {},
     "output_type": "execute_result"
    }
   ],
   "execution_count": 98
  },
  {
   "metadata": {
    "ExecuteTime": {
     "end_time": "2025-04-02T10:10:46.712122Z",
     "start_time": "2025-04-02T10:10:46.706103Z"
    }
   },
   "cell_type": "code",
   "source": "df_copy.head()",
   "id": "7e6d16a78dce099d",
   "outputs": [
    {
     "data": {
      "text/plain": [
       "                                                     utm_source utm_medium  \\\n",
       "session_id                                                                   \n",
       "9055434745589932991.1637753792.1637753792  ZpYIoDJMcFzVoPFsHGJL     banner   \n",
       "905544597018549464.1636867290.1636867290   MvfHsxITijuriZxsqZqt        cpm   \n",
       "9055446045651783499.1640648526.1640648526  ZpYIoDJMcFzVoPFsHGJL     banner   \n",
       "9055447046360770272.1622255328.1622255328  kjsLglQLzykiRbcDiGcD        cpc   \n",
       "9055447046360770272.1622255345.1622255345  kjsLglQLzykiRbcDiGcD        cpc   \n",
       "\n",
       "                                                   utm_campaign  \\\n",
       "session_id                                                        \n",
       "9055434745589932991.1637753792.1637753792  LEoPHuyFvzoNfnzGgfcd   \n",
       "905544597018549464.1636867290.1636867290   FTjNLDyTrXaWYgZymFkV   \n",
       "9055446045651783499.1640648526.1640648526  LEoPHuyFvzoNfnzGgfcd   \n",
       "9055447046360770272.1622255328.1622255328                463481   \n",
       "9055447046360770272.1622255345.1622255345                463481   \n",
       "\n",
       "                                                  utm_adcontent  \\\n",
       "session_id                                                        \n",
       "9055434745589932991.1637753792.1637753792  vCIpmpaGBnIQhyYNkXqp   \n",
       "905544597018549464.1636867290.1636867290   xhoenQgDQsgfEPYNPwKO   \n",
       "9055446045651783499.1640648526.1640648526  vCIpmpaGBnIQhyYNkXqp   \n",
       "9055447046360770272.1622255328.1622255328  NOBKLgtuvqYWkXQHeYWM   \n",
       "9055447046360770272.1622255345.1622255345               1006599   \n",
       "\n",
       "                                                    utm_keyword  \\\n",
       "session_id                                                        \n",
       "9055434745589932991.1637753792.1637753792  puhZPIYqKXeFPaUviSjo   \n",
       "905544597018549464.1636867290.1636867290   IGUCNvHlhfHpROGclCit   \n",
       "9055446045651783499.1640648526.1640648526  puhZPIYqKXeFPaUviSjo   \n",
       "9055447046360770272.1622255328.1622255328                506819   \n",
       "9055447046360770272.1622255345.1622255345                506819   \n",
       "\n",
       "                                          device_category device_os  \\\n",
       "session_id                                                            \n",
       "9055434745589932991.1637753792.1637753792          mobile   Android   \n",
       "905544597018549464.1636867290.1636867290           mobile   Android   \n",
       "9055446045651783499.1640648526.1640648526          mobile   Android   \n",
       "9055447046360770272.1622255328.1622255328          mobile   Android   \n",
       "9055447046360770272.1622255345.1622255345          mobile   Android   \n",
       "\n",
       "                                          device_brand  \\\n",
       "session_id                                               \n",
       "9055434745589932991.1637753792.1637753792       Huawei   \n",
       "905544597018549464.1636867290.1636867290       Samsung   \n",
       "9055446045651783499.1640648526.1640648526       Huawei   \n",
       "9055447046360770272.1622255328.1622255328       Xiaomi   \n",
       "9055447046360770272.1622255345.1622255345       Xiaomi   \n",
       "\n",
       "                                          device_screen_resolution  \\\n",
       "session_id                                                           \n",
       "9055434745589932991.1637753792.1637753792                  360x720   \n",
       "905544597018549464.1636867290.1636867290                   385x854   \n",
       "9055446045651783499.1640648526.1640648526                  360x720   \n",
       "9055447046360770272.1622255328.1622255328                  393x786   \n",
       "9055447046360770272.1622255345.1622255345                  393x786   \n",
       "\n",
       "                                             device_browser geo_country  \\\n",
       "session_id                                                                \n",
       "9055434745589932991.1637753792.1637753792            Chrome      Russia   \n",
       "905544597018549464.1636867290.1636867290   Samsung Internet      Russia   \n",
       "9055446045651783499.1640648526.1640648526            Chrome      Russia   \n",
       "9055447046360770272.1622255328.1622255328            Chrome      Russia   \n",
       "9055447046360770272.1622255345.1622255345            Chrome      Russia   \n",
       "\n",
       "                                              geo_city  \n",
       "session_id                                              \n",
       "9055434745589932991.1637753792.1637753792     Zlatoust  \n",
       "905544597018549464.1636867290.1636867290        Moscow  \n",
       "9055446045651783499.1640648526.1640648526  Krasnoyarsk  \n",
       "9055447046360770272.1622255328.1622255328       Moscow  \n",
       "9055447046360770272.1622255345.1622255345       Moscow  "
      ],
      "text/html": [
       "<div>\n",
       "<style scoped>\n",
       "    .dataframe tbody tr th:only-of-type {\n",
       "        vertical-align: middle;\n",
       "    }\n",
       "\n",
       "    .dataframe tbody tr th {\n",
       "        vertical-align: top;\n",
       "    }\n",
       "\n",
       "    .dataframe thead th {\n",
       "        text-align: right;\n",
       "    }\n",
       "</style>\n",
       "<table border=\"1\" class=\"dataframe\">\n",
       "  <thead>\n",
       "    <tr style=\"text-align: right;\">\n",
       "      <th></th>\n",
       "      <th>utm_source</th>\n",
       "      <th>utm_medium</th>\n",
       "      <th>utm_campaign</th>\n",
       "      <th>utm_adcontent</th>\n",
       "      <th>utm_keyword</th>\n",
       "      <th>device_category</th>\n",
       "      <th>device_os</th>\n",
       "      <th>device_brand</th>\n",
       "      <th>device_screen_resolution</th>\n",
       "      <th>device_browser</th>\n",
       "      <th>geo_country</th>\n",
       "      <th>geo_city</th>\n",
       "    </tr>\n",
       "    <tr>\n",
       "      <th>session_id</th>\n",
       "      <th></th>\n",
       "      <th></th>\n",
       "      <th></th>\n",
       "      <th></th>\n",
       "      <th></th>\n",
       "      <th></th>\n",
       "      <th></th>\n",
       "      <th></th>\n",
       "      <th></th>\n",
       "      <th></th>\n",
       "      <th></th>\n",
       "      <th></th>\n",
       "    </tr>\n",
       "  </thead>\n",
       "  <tbody>\n",
       "    <tr>\n",
       "      <th>9055434745589932991.1637753792.1637753792</th>\n",
       "      <td>ZpYIoDJMcFzVoPFsHGJL</td>\n",
       "      <td>banner</td>\n",
       "      <td>LEoPHuyFvzoNfnzGgfcd</td>\n",
       "      <td>vCIpmpaGBnIQhyYNkXqp</td>\n",
       "      <td>puhZPIYqKXeFPaUviSjo</td>\n",
       "      <td>mobile</td>\n",
       "      <td>Android</td>\n",
       "      <td>Huawei</td>\n",
       "      <td>360x720</td>\n",
       "      <td>Chrome</td>\n",
       "      <td>Russia</td>\n",
       "      <td>Zlatoust</td>\n",
       "    </tr>\n",
       "    <tr>\n",
       "      <th>905544597018549464.1636867290.1636867290</th>\n",
       "      <td>MvfHsxITijuriZxsqZqt</td>\n",
       "      <td>cpm</td>\n",
       "      <td>FTjNLDyTrXaWYgZymFkV</td>\n",
       "      <td>xhoenQgDQsgfEPYNPwKO</td>\n",
       "      <td>IGUCNvHlhfHpROGclCit</td>\n",
       "      <td>mobile</td>\n",
       "      <td>Android</td>\n",
       "      <td>Samsung</td>\n",
       "      <td>385x854</td>\n",
       "      <td>Samsung Internet</td>\n",
       "      <td>Russia</td>\n",
       "      <td>Moscow</td>\n",
       "    </tr>\n",
       "    <tr>\n",
       "      <th>9055446045651783499.1640648526.1640648526</th>\n",
       "      <td>ZpYIoDJMcFzVoPFsHGJL</td>\n",
       "      <td>banner</td>\n",
       "      <td>LEoPHuyFvzoNfnzGgfcd</td>\n",
       "      <td>vCIpmpaGBnIQhyYNkXqp</td>\n",
       "      <td>puhZPIYqKXeFPaUviSjo</td>\n",
       "      <td>mobile</td>\n",
       "      <td>Android</td>\n",
       "      <td>Huawei</td>\n",
       "      <td>360x720</td>\n",
       "      <td>Chrome</td>\n",
       "      <td>Russia</td>\n",
       "      <td>Krasnoyarsk</td>\n",
       "    </tr>\n",
       "    <tr>\n",
       "      <th>9055447046360770272.1622255328.1622255328</th>\n",
       "      <td>kjsLglQLzykiRbcDiGcD</td>\n",
       "      <td>cpc</td>\n",
       "      <td>463481</td>\n",
       "      <td>NOBKLgtuvqYWkXQHeYWM</td>\n",
       "      <td>506819</td>\n",
       "      <td>mobile</td>\n",
       "      <td>Android</td>\n",
       "      <td>Xiaomi</td>\n",
       "      <td>393x786</td>\n",
       "      <td>Chrome</td>\n",
       "      <td>Russia</td>\n",
       "      <td>Moscow</td>\n",
       "    </tr>\n",
       "    <tr>\n",
       "      <th>9055447046360770272.1622255345.1622255345</th>\n",
       "      <td>kjsLglQLzykiRbcDiGcD</td>\n",
       "      <td>cpc</td>\n",
       "      <td>463481</td>\n",
       "      <td>1006599</td>\n",
       "      <td>506819</td>\n",
       "      <td>mobile</td>\n",
       "      <td>Android</td>\n",
       "      <td>Xiaomi</td>\n",
       "      <td>393x786</td>\n",
       "      <td>Chrome</td>\n",
       "      <td>Russia</td>\n",
       "      <td>Moscow</td>\n",
       "    </tr>\n",
       "  </tbody>\n",
       "</table>\n",
       "</div>"
      ]
     },
     "execution_count": 99,
     "metadata": {},
     "output_type": "execute_result"
    }
   ],
   "execution_count": 99
  },
  {
   "metadata": {
    "ExecuteTime": {
     "end_time": "2025-04-02T10:10:46.818434Z",
     "start_time": "2025-04-02T10:10:46.813096Z"
    }
   },
   "cell_type": "code",
   "source": "df_copy.columns",
   "id": "c8df4f22b0104818",
   "outputs": [
    {
     "data": {
      "text/plain": [
       "Index(['utm_source', 'utm_medium', 'utm_campaign', 'utm_adcontent',\n",
       "       'utm_keyword', 'device_category', 'device_os', 'device_brand',\n",
       "       'device_screen_resolution', 'device_browser', 'geo_country',\n",
       "       'geo_city'],\n",
       "      dtype='object')"
      ]
     },
     "execution_count": 100,
     "metadata": {},
     "output_type": "execute_result"
    }
   ],
   "execution_count": 100
  },
  {
   "metadata": {
    "ExecuteTime": {
     "end_time": "2025-04-02T10:10:47.007069Z",
     "start_time": "2025-04-02T10:10:46.953310Z"
    }
   },
   "cell_type": "code",
   "source": "df_copy.device_os.value_counts().sort_values(ascending=False)",
   "id": "c23ca9061240ab8c",
   "outputs": [
    {
     "data": {
      "text/plain": [
       "device_os\n",
       "Android    911933\n",
       "iOS        551078\n",
       "other      396792\n",
       "PC            142\n",
       "Name: count, dtype: int64"
      ]
     },
     "execution_count": 101,
     "metadata": {},
     "output_type": "execute_result"
    }
   ],
   "execution_count": 101
  },
  {
   "metadata": {
    "ExecuteTime": {
     "end_time": "2025-04-02T10:10:48.196843Z",
     "start_time": "2025-04-02T10:10:47.081513Z"
    }
   },
   "cell_type": "code",
   "source": [
    "for col in ['utm_medium', 'device_brand', 'device_category', 'device_os', 'device_screen_resolution', 'device_browser','geo_country', 'geo_city']:\n",
    "    plt.figure(figsize=(10, 5))\n",
    "    df_copy[col].value_counts().sort_values(ascending=False).head(10).plot(kind='barh')\n",
    "    plt.title(f'Топ-10 значений в {col} (доля от общего)')\n",
    "    plt.show()"
   ],
   "id": "24f68d3770ed29f8",
   "outputs": [
    {
     "data": {
      "text/plain": [
       "<Figure size 1000x500 with 1 Axes>"
      ],
      "image/png": "[encoded data removed]"
     },
     "metadata": {},
     "output_type": "display_data"
    },
    {
     "data": {
      "text/plain": [
       "<Figure size 1000x500 with 1 Axes>"
      ],
      "image/png": "[encoded data removed]"
     },
     "metadata": {},
     "output_type": "display_data"
    },
    {
     "data": {
      "text/plain": [
       "<Figure size 1000x500 with 1 Axes>"
      ],
      "image/png": "[encoded data removed]"
     },
     "metadata": {},
     "output_type": "display_data"
    },
    {
     "data": {
      "text/plain": [
       "<Figure size 1000x500 with 1 Axes>"
      ],
      "image/png": "[encoded data removed]"
     },
     "metadata": {},
     "output_type": "display_data"
    },
    {
     "data": {
      "text/plain": [
       "<Figure size 1000x500 with 1 Axes>"
      ],
      "image/png": "[encoded data removed]"
     },
     "metadata": {},
     "output_type": "display_data"
    },
    {
     "data": {
      "text/plain": [
       "<Figure size 1000x500 with 1 Axes>"
      ],
      "image/png": "[encoded data removed]"
     },
     "metadata": {},
     "output_type": "display_data"
    },
    {
     "data": {
      "text/plain": [
       "<Figure size 1000x500 with 1 Axes>"
      ],
      "image/png": "[encoded data removed]"
     },
     "metadata": {},
     "output_type": "display_data"
    },
    {
     "data": {
      "text/plain": [
       "<Figure size 1000x500 with 1 Axes>"
      ],
      "image/png": "[encoded data removed]"
     },
     "metadata": {},
     "output_type": "display_data"
    }
   ],
   "execution_count": 102
  },
  {
   "metadata": {
    "ExecuteTime": {
     "end_time": "2025-04-02T10:10:48.268536Z",
     "start_time": "2025-04-02T10:10:48.219699Z"
    }
   },
   "cell_type": "code",
   "source": "df_copy.geo_country.value_counts()[0]/len(df_copy) * 100",
   "id": "e39d82e39d255cd1",
   "outputs": [
    {
     "name": "stderr",
     "output_type": "stream",
     "text": [
      "/var/folders/kn/_tgds5451054_0cq0cqj57900000gn/T/ipykernel_5058/2868657628.py:1: FutureWarning: Series.__getitem__ treating keys as positions is deprecated. In a future version, integer keys will always be treated as labels (consistent with DataFrame behavior). To access a value by position, use `ser.iloc[pos]`\n",
      "  df_copy.geo_country.value_counts()[0]/len(df_copy) * 100\n"
     ]
    },
    {
     "data": {
      "text/plain": [
       "np.float64(96.8022710348962)"
      ]
     },
     "execution_count": 103,
     "metadata": {},
     "output_type": "execute_result"
    }
   ],
   "execution_count": 103
  },
  {
   "metadata": {
    "ExecuteTime": {
     "end_time": "2025-04-02T10:10:48.830803Z",
     "start_time": "2025-04-02T10:10:48.331778Z"
    }
   },
   "cell_type": "code",
   "source": [
    "# Так как страна, на которой мы распространяем продукт - Россия и подавляющее большинство строк из России, удаляю все строки, в которых указываются другие страны\n",
    "df_copy = df_copy[df_copy.geo_country == 'Russia']\n",
    "df_copy.head(10)"
   ],
   "id": "1ca6a5cf350b1038",
   "outputs": [
    {
     "data": {
      "text/plain": [
       "                                                     utm_source utm_medium  \\\n",
       "session_id                                                                   \n",
       "9055434745589932991.1637753792.1637753792  ZpYIoDJMcFzVoPFsHGJL     banner   \n",
       "905544597018549464.1636867290.1636867290   MvfHsxITijuriZxsqZqt        cpm   \n",
       "9055446045651783499.1640648526.1640648526  ZpYIoDJMcFzVoPFsHGJL     banner   \n",
       "9055447046360770272.1622255328.1622255328  kjsLglQLzykiRbcDiGcD        cpc   \n",
       "9055447046360770272.1622255345.1622255345  kjsLglQLzykiRbcDiGcD        cpc   \n",
       "9055447192389856083.1622453074.1622453074  kjsLglQLzykiRbcDiGcD    organic   \n",
       "9055455318486370642.1640843788.1640843788  TxKUcPpthBDPieTGmVhx        cpc   \n",
       "9055461992850812764.1626107740.1626107740  ZpYIoDJMcFzVoPFsHGJL     banner   \n",
       "9055462349345527315.1638536723.1638536723  ZpYIoDJMcFzVoPFsHGJL     banner   \n",
       "9055466554104774132.1624800757.1624800757  ZpYIoDJMcFzVoPFsHGJL     banner   \n",
       "\n",
       "                                                   utm_campaign  \\\n",
       "session_id                                                        \n",
       "9055434745589932991.1637753792.1637753792  LEoPHuyFvzoNfnzGgfcd   \n",
       "905544597018549464.1636867290.1636867290   FTjNLDyTrXaWYgZymFkV   \n",
       "9055446045651783499.1640648526.1640648526  LEoPHuyFvzoNfnzGgfcd   \n",
       "9055447046360770272.1622255328.1622255328                463481   \n",
       "9055447046360770272.1622255345.1622255345                463481   \n",
       "9055447192389856083.1622453074.1622453074  LTuZkdKfxRGVceoWkVyg   \n",
       "9055455318486370642.1640843788.1640843788  FTjNLDyTrXaWYgZymFkV   \n",
       "9055461992850812764.1626107740.1626107740  LEoPHuyFvzoNfnzGgfcd   \n",
       "9055462349345527315.1638536723.1638536723  LEoPHuyFvzoNfnzGgfcd   \n",
       "9055466554104774132.1624800757.1624800757  LEoPHuyFvzoNfnzGgfcd   \n",
       "\n",
       "                                                  utm_adcontent  \\\n",
       "session_id                                                        \n",
       "9055434745589932991.1637753792.1637753792  vCIpmpaGBnIQhyYNkXqp   \n",
       "905544597018549464.1636867290.1636867290   xhoenQgDQsgfEPYNPwKO   \n",
       "9055446045651783499.1640648526.1640648526  vCIpmpaGBnIQhyYNkXqp   \n",
       "9055447046360770272.1622255328.1622255328  NOBKLgtuvqYWkXQHeYWM   \n",
       "9055447046360770272.1622255345.1622255345               1006599   \n",
       "9055447192389856083.1622453074.1622453074  JNHcPlZPxEMWDnRiyoBf   \n",
       "9055455318486370642.1640843788.1640843788  LcGIUNPUAmXtQJaDfFBR   \n",
       "9055461992850812764.1626107740.1626107740  JNHcPlZPxEMWDnRiyoBf   \n",
       "9055462349345527315.1638536723.1638536723  vCIpmpaGBnIQhyYNkXqp   \n",
       "9055466554104774132.1624800757.1624800757  JNHcPlZPxEMWDnRiyoBf   \n",
       "\n",
       "                                                    utm_keyword  \\\n",
       "session_id                                                        \n",
       "9055434745589932991.1637753792.1637753792  puhZPIYqKXeFPaUviSjo   \n",
       "905544597018549464.1636867290.1636867290   IGUCNvHlhfHpROGclCit   \n",
       "9055446045651783499.1640648526.1640648526  puhZPIYqKXeFPaUviSjo   \n",
       "9055447046360770272.1622255328.1622255328                506819   \n",
       "9055447046360770272.1622255345.1622255345                506819   \n",
       "9055447192389856083.1622453074.1622453074                506819   \n",
       "9055455318486370642.1640843788.1640843788  PwscUHjoUJDrtfWESIHj   \n",
       "9055461992850812764.1626107740.1626107740                506819   \n",
       "9055462349345527315.1638536723.1638536723  puhZPIYqKXeFPaUviSjo   \n",
       "9055466554104774132.1624800757.1624800757                506819   \n",
       "\n",
       "                                          device_category device_os  \\\n",
       "session_id                                                            \n",
       "9055434745589932991.1637753792.1637753792          mobile   Android   \n",
       "905544597018549464.1636867290.1636867290           mobile   Android   \n",
       "9055446045651783499.1640648526.1640648526          mobile   Android   \n",
       "9055447046360770272.1622255328.1622255328          mobile   Android   \n",
       "9055447046360770272.1622255345.1622255345          mobile   Android   \n",
       "9055447192389856083.1622453074.1622453074          mobile       iOS   \n",
       "9055455318486370642.1640843788.1640843788          tablet   Android   \n",
       "9055461992850812764.1626107740.1626107740          mobile   Android   \n",
       "9055462349345527315.1638536723.1638536723          mobile       iOS   \n",
       "9055466554104774132.1624800757.1624800757          mobile   Android   \n",
       "\n",
       "                                          device_brand  \\\n",
       "session_id                                               \n",
       "9055434745589932991.1637753792.1637753792       Huawei   \n",
       "905544597018549464.1636867290.1636867290       Samsung   \n",
       "9055446045651783499.1640648526.1640648526       Huawei   \n",
       "9055447046360770272.1622255328.1622255328       Xiaomi   \n",
       "9055447046360770272.1622255345.1622255345       Xiaomi   \n",
       "9055447192389856083.1622453074.1622453074        Apple   \n",
       "9055455318486370642.1640843788.1640843788       Lenovo   \n",
       "9055461992850812764.1626107740.1626107740      Samsung   \n",
       "9055462349345527315.1638536723.1638536723        Apple   \n",
       "9055466554104774132.1624800757.1624800757      Samsung   \n",
       "\n",
       "                                          device_screen_resolution  \\\n",
       "session_id                                                           \n",
       "9055434745589932991.1637753792.1637753792                  360x720   \n",
       "905544597018549464.1636867290.1636867290                   385x854   \n",
       "9055446045651783499.1640648526.1640648526                  360x720   \n",
       "9055447046360770272.1622255328.1622255328                  393x786   \n",
       "9055447046360770272.1622255345.1622255345                  393x786   \n",
       "9055447192389856083.1622453074.1622453074                  375x812   \n",
       "9055455318486370642.1640843788.1640843788                 602x1029   \n",
       "9055461992850812764.1626107740.1626107740                  360x640   \n",
       "9055462349345527315.1638536723.1638536723                  390x844   \n",
       "9055466554104774132.1624800757.1624800757                  412x915   \n",
       "\n",
       "                                             device_browser geo_country  \\\n",
       "session_id                                                                \n",
       "9055434745589932991.1637753792.1637753792            Chrome      Russia   \n",
       "905544597018549464.1636867290.1636867290   Samsung Internet      Russia   \n",
       "9055446045651783499.1640648526.1640648526            Chrome      Russia   \n",
       "9055447046360770272.1622255328.1622255328            Chrome      Russia   \n",
       "9055447046360770272.1622255345.1622255345            Chrome      Russia   \n",
       "9055447192389856083.1622453074.1622453074            Safari      Russia   \n",
       "9055455318486370642.1640843788.1640843788         YaBrowser      Russia   \n",
       "9055461992850812764.1626107740.1626107740            Chrome      Russia   \n",
       "9055462349345527315.1638536723.1638536723            Safari      Russia   \n",
       "9055466554104774132.1624800757.1624800757            Chrome      Russia   \n",
       "\n",
       "                                                   geo_city  \n",
       "session_id                                                   \n",
       "9055434745589932991.1637753792.1637753792          Zlatoust  \n",
       "905544597018549464.1636867290.1636867290             Moscow  \n",
       "9055446045651783499.1640648526.1640648526       Krasnoyarsk  \n",
       "9055447046360770272.1622255328.1622255328            Moscow  \n",
       "9055447046360770272.1622255345.1622255345            Moscow  \n",
       "9055447192389856083.1622453074.1622453074  Saint Petersburg  \n",
       "9055455318486370642.1640843788.1640843788  Saint Petersburg  \n",
       "9055461992850812764.1626107740.1626107740  Saint Petersburg  \n",
       "9055462349345527315.1638536723.1638536723            Moscow  \n",
       "9055466554104774132.1624800757.1624800757            Moscow  "
      ],
      "text/html": [
       "<div>\n",
       "<style scoped>\n",
       "    .dataframe tbody tr th:only-of-type {\n",
       "        vertical-align: middle;\n",
       "    }\n",
       "\n",
       "    .dataframe tbody tr th {\n",
       "        vertical-align: top;\n",
       "    }\n",
       "\n",
       "    .dataframe thead th {\n",
       "        text-align: right;\n",
       "    }\n",
       "</style>\n",
       "<table border=\"1\" class=\"dataframe\">\n",
       "  <thead>\n",
       "    <tr style=\"text-align: right;\">\n",
       "      <th></th>\n",
       "      <th>utm_source</th>\n",
       "      <th>utm_medium</th>\n",
       "      <th>utm_campaign</th>\n",
       "      <th>utm_adcontent</th>\n",
       "      <th>utm_keyword</th>\n",
       "      <th>device_category</th>\n",
       "      <th>device_os</th>\n",
       "      <th>device_brand</th>\n",
       "      <th>device_screen_resolution</th>\n",
       "      <th>device_browser</th>\n",
       "      <th>geo_country</th>\n",
       "      <th>geo_city</th>\n",
       "    </tr>\n",
       "    <tr>\n",
       "      <th>session_id</th>\n",
       "      <th></th>\n",
       "      <th></th>\n",
       "      <th></th>\n",
       "      <th></th>\n",
       "      <th></th>\n",
       "      <th></th>\n",
       "      <th></th>\n",
       "      <th></th>\n",
       "      <th></th>\n",
       "      <th></th>\n",
       "      <th></th>\n",
       "      <th></th>\n",
       "    </tr>\n",
       "  </thead>\n",
       "  <tbody>\n",
       "    <tr>\n",
       "      <th>9055434745589932991.1637753792.1637753792</th>\n",
       "      <td>ZpYIoDJMcFzVoPFsHGJL</td>\n",
       "      <td>banner</td>\n",
       "      <td>LEoPHuyFvzoNfnzGgfcd</td>\n",
       "      <td>vCIpmpaGBnIQhyYNkXqp</td>\n",
       "      <td>puhZPIYqKXeFPaUviSjo</td>\n",
       "      <td>mobile</td>\n",
       "      <td>Android</td>\n",
       "      <td>Huawei</td>\n",
       "      <td>360x720</td>\n",
       "      <td>Chrome</td>\n",
       "      <td>Russia</td>\n",
       "      <td>Zlatoust</td>\n",
       "    </tr>\n",
       "    <tr>\n",
       "      <th>905544597018549464.1636867290.1636867290</th>\n",
       "      <td>MvfHsxITijuriZxsqZqt</td>\n",
       "      <td>cpm</td>\n",
       "      <td>FTjNLDyTrXaWYgZymFkV</td>\n",
       "      <td>xhoenQgDQsgfEPYNPwKO</td>\n",
       "      <td>IGUCNvHlhfHpROGclCit</td>\n",
       "      <td>mobile</td>\n",
       "      <td>Android</td>\n",
       "      <td>Samsung</td>\n",
       "      <td>385x854</td>\n",
       "      <td>Samsung Internet</td>\n",
       "      <td>Russia</td>\n",
       "      <td>Moscow</td>\n",
       "    </tr>\n",
       "    <tr>\n",
       "      <th>9055446045651783499.1640648526.1640648526</th>\n",
       "      <td>ZpYIoDJMcFzVoPFsHGJL</td>\n",
       "      <td>banner</td>\n",
       "      <td>LEoPHuyFvzoNfnzGgfcd</td>\n",
       "      <td>vCIpmpaGBnIQhyYNkXqp</td>\n",
       "      <td>puhZPIYqKXeFPaUviSjo</td>\n",
       "      <td>mobile</td>\n",
       "      <td>Android</td>\n",
       "      <td>Huawei</td>\n",
       "      <td>360x720</td>\n",
       "      <td>Chrome</td>\n",
       "      <td>Russia</td>\n",
       "      <td>Krasnoyarsk</td>\n",
       "    </tr>\n",
       "    <tr>\n",
       "      <th>9055447046360770272.1622255328.1622255328</th>\n",
       "      <td>kjsLglQLzykiRbcDiGcD</td>\n",
       "      <td>cpc</td>\n",
       "      <td>463481</td>\n",
       "      <td>NOBKLgtuvqYWkXQHeYWM</td>\n",
       "      <td>506819</td>\n",
       "      <td>mobile</td>\n",
       "      <td>Android</td>\n",
       "      <td>Xiaomi</td>\n",
       "      <td>393x786</td>\n",
       "      <td>Chrome</td>\n",
       "      <td>Russia</td>\n",
       "      <td>Moscow</td>\n",
       "    </tr>\n",
       "    <tr>\n",
       "      <th>9055447046360770272.1622255345.1622255345</th>\n",
       "      <td>kjsLglQLzykiRbcDiGcD</td>\n",
       "      <td>cpc</td>\n",
       "      <td>463481</td>\n",
       "      <td>1006599</td>\n",
       "      <td>506819</td>\n",
       "      <td>mobile</td>\n",
       "      <td>Android</td>\n",
       "      <td>Xiaomi</td>\n",
       "      <td>393x786</td>\n",
       "      <td>Chrome</td>\n",
       "      <td>Russia</td>\n",
       "      <td>Moscow</td>\n",
       "    </tr>\n",
       "    <tr>\n",
       "      <th>9055447192389856083.1622453074.1622453074</th>\n",
       "      <td>kjsLglQLzykiRbcDiGcD</td>\n",
       "      <td>organic</td>\n",
       "      <td>LTuZkdKfxRGVceoWkVyg</td>\n",
       "      <td>JNHcPlZPxEMWDnRiyoBf</td>\n",
       "      <td>506819</td>\n",
       "      <td>mobile</td>\n",
       "      <td>iOS</td>\n",
       "      <td>Apple</td>\n",
       "      <td>375x812</td>\n",
       "      <td>Safari</td>\n",
       "      <td>Russia</td>\n",
       "      <td>Saint Petersburg</td>\n",
       "    </tr>\n",
       "    <tr>\n",
       "      <th>9055455318486370642.1640843788.1640843788</th>\n",
       "      <td>TxKUcPpthBDPieTGmVhx</td>\n",
       "      <td>cpc</td>\n",
       "      <td>FTjNLDyTrXaWYgZymFkV</td>\n",
       "      <td>LcGIUNPUAmXtQJaDfFBR</td>\n",
       "      <td>PwscUHjoUJDrtfWESIHj</td>\n",
       "      <td>tablet</td>\n",
       "      <td>Android</td>\n",
       "      <td>Lenovo</td>\n",
       "      <td>602x1029</td>\n",
       "      <td>YaBrowser</td>\n",
       "      <td>Russia</td>\n",
       "      <td>Saint Petersburg</td>\n",
       "    </tr>\n",
       "    <tr>\n",
       "      <th>9055461992850812764.1626107740.1626107740</th>\n",
       "      <td>ZpYIoDJMcFzVoPFsHGJL</td>\n",
       "      <td>banner</td>\n",
       "      <td>LEoPHuyFvzoNfnzGgfcd</td>\n",
       "      <td>JNHcPlZPxEMWDnRiyoBf</td>\n",
       "      <td>506819</td>\n",
       "      <td>mobile</td>\n",
       "      <td>Android</td>\n",
       "      <td>Samsung</td>\n",
       "      <td>360x640</td>\n",
       "      <td>Chrome</td>\n",
       "      <td>Russia</td>\n",
       "      <td>Saint Petersburg</td>\n",
       "    </tr>\n",
       "    <tr>\n",
       "      <th>9055462349345527315.1638536723.1638536723</th>\n",
       "      <td>ZpYIoDJMcFzVoPFsHGJL</td>\n",
       "      <td>banner</td>\n",
       "      <td>LEoPHuyFvzoNfnzGgfcd</td>\n",
       "      <td>vCIpmpaGBnIQhyYNkXqp</td>\n",
       "      <td>puhZPIYqKXeFPaUviSjo</td>\n",
       "      <td>mobile</td>\n",
       "      <td>iOS</td>\n",
       "      <td>Apple</td>\n",
       "      <td>390x844</td>\n",
       "      <td>Safari</td>\n",
       "      <td>Russia</td>\n",
       "      <td>Moscow</td>\n",
       "    </tr>\n",
       "    <tr>\n",
       "      <th>9055466554104774132.1624800757.1624800757</th>\n",
       "      <td>ZpYIoDJMcFzVoPFsHGJL</td>\n",
       "      <td>banner</td>\n",
       "      <td>LEoPHuyFvzoNfnzGgfcd</td>\n",
       "      <td>JNHcPlZPxEMWDnRiyoBf</td>\n",
       "      <td>506819</td>\n",
       "      <td>mobile</td>\n",
       "      <td>Android</td>\n",
       "      <td>Samsung</td>\n",
       "      <td>412x915</td>\n",
       "      <td>Chrome</td>\n",
       "      <td>Russia</td>\n",
       "      <td>Moscow</td>\n",
       "    </tr>\n",
       "  </tbody>\n",
       "</table>\n",
       "</div>"
      ]
     },
     "execution_count": 104,
     "metadata": {},
     "output_type": "execute_result"
    }
   ],
   "execution_count": 104
  },
  {
   "metadata": {
    "ExecuteTime": {
     "end_time": "2025-04-02T10:10:49.434720Z",
     "start_time": "2025-04-02T10:10:48.860685Z"
    }
   },
   "cell_type": "code",
   "source": "df_copy.nunique().sort_values(ascending=False)",
   "id": "173334f24e99d112",
   "outputs": [
    {
     "data": {
      "text/plain": [
       "device_screen_resolution    4962\n",
       "utm_keyword                 1211\n",
       "geo_city                     506\n",
       "utm_campaign                 386\n",
       "utm_source                   274\n",
       "utm_adcontent                267\n",
       "device_brand                 197\n",
       "utm_medium                    51\n",
       "device_browser                30\n",
       "device_os                      4\n",
       "device_category                3\n",
       "geo_country                    1\n",
       "dtype: int64"
      ]
     },
     "execution_count": 105,
     "metadata": {},
     "output_type": "execute_result"
    }
   ],
   "execution_count": 105
  },
  {
   "metadata": {
    "ExecuteTime": {
     "end_time": "2025-04-02T10:10:49.771936Z",
     "start_time": "2025-04-02T10:10:49.664925Z"
    }
   },
   "cell_type": "code",
   "source": [
    "top50_keyword = df_copy.utm_keyword.value_counts(ascending=False).head(50).index\n",
    "top50_resolution = df_copy.device_screen_resolution.value_counts().head(50).index"
   ],
   "id": "25b6bc07c03c7c4d",
   "outputs": [],
   "execution_count": 106
  },
  {
   "metadata": {
    "ExecuteTime": {
     "end_time": "2025-04-02T10:10:50.581682Z",
     "start_time": "2025-04-02T10:10:50.578547Z"
    }
   },
   "cell_type": "code",
   "source": "top50_keyword",
   "id": "d6873efac017acff",
   "outputs": [
    {
     "data": {
      "text/plain": [
       "Index([                506819, 'puhZPIYqKXeFPaUviSjo', 'aXQzDWsJuGXeBXexNHjc',\n",
       "       'pHqgLcdBQPSLcrTpLkdr', 'ITfrGJNwVsHBGJMAKoct', 'hAmNSZmQkKQKAjZEGlgb',\n",
       "       'UKNBOHebRIIsQRsjNKay', 'IGUCNvHlhfHpROGclCit', 'RkpOyeEPgcMBSDuHLQcj',\n",
       "       'JajANoFxoqXfKRNBUhzx', 'BmOOOIoWGHEfxEfoUezs', 'ZNhSIPchlbnKwZWcsKzz',\n",
       "       'pucKZkLDtpMDBTobJAJG', 'RrhnkuoaqckNtJpAZDzH', 'YQXPpoLsxnykCWKhGEmI',\n",
       "       'DBHgBJHOdbPwsRDUbEgX', 'XEayFbemrPYbxFeNbxif', 'tVtbIKrPSOvrXLCznVVe',\n",
       "       'MWLEpQPyjGkjHseVyeyQ', 'fzbotReoFzSuckjwcpCs', 'COtBsnAzfZyRVtvDlhnW',\n",
       "       'QYfbqJXuLdJGfOSFgZOs', 'tzIeQUUHahhBuEkJqDVp', 'KCcEkEaKEtUilBVMoCAi',\n",
       "       'ISrKoXQCxqqYvAZICvjs', 'qxnAydKMtMSuafVrMzdC', 'psjAUzFZVWWCuxgCrtmQ',\n",
       "       'ObIWuFTMgFPUHNiFoOwb', 'MBHgRPNeTcONuVFFXgmz', 'oKjXDUsycmahkgMhGdAR',\n",
       "       'qUcotcWimEOQiboVPcCx', 'jfLxUKobDdJlutbwyjaU', 'fkhLOTqvIJxkHksTSIzX',\n",
       "       'rUCkqFnIxCaJcjmMyyMC', 'AOIxUCLuCjwgydJkOLWI', 'jpZoxCaowxXvglZVUJyq',\n",
       "       'QVwnwuQeEBRKybYuwqrE', 'DBLWVjTjVZuzWYWTaDfZ', 'KCcrgoFqYxCpSjdRyJjZ',\n",
       "       'iDrLOaeBXQjJLmhvuWWP', 'ucuwacMUeGnaCgSEEZdM', 'RmEBuqrriAfAVsLQQmhk',\n",
       "       'HKFjmDlYppkKqsWPogJt', 'PVFXnspnruelCtUpjRiI', 'lVHkqXlZapieOXCrCJWG',\n",
       "       'xkXwwebfDFpZOOKBcXpE', 'nSReTmyFtbSjlPrTKoaX', 'rcScqexpyNHshwBMMfPx',\n",
       "       'zMWFwwrXUdIvCHXUfOpo', 'QRSrGMRlRfLHqzjtnKsP'],\n",
       "      dtype='object', name='utm_keyword')"
      ]
     },
     "execution_count": 107,
     "metadata": {},
     "output_type": "execute_result"
    }
   ],
   "execution_count": 107
  },
  {
   "metadata": {
    "ExecuteTime": {
     "end_time": "2025-04-02T10:10:52.491334Z",
     "start_time": "2025-04-02T10:10:51.431517Z"
    }
   },
   "cell_type": "code",
   "source": [
    "df_copy.device_screen_resolution = df_copy.device_screen_resolution.apply(lambda x: x if x in top50_resolution else 'other')\n",
    "df_copy.utm_keyword = df_copy.utm_keyword.apply(lambda x: x if x in top50_keyword else 'other')"
   ],
   "id": "f60eccba18c09387",
   "outputs": [],
   "execution_count": 108
  },
  {
   "metadata": {
    "ExecuteTime": {
     "end_time": "2025-04-02T10:10:53.322974Z",
     "start_time": "2025-04-02T10:10:53.250298Z"
    }
   },
   "cell_type": "code",
   "source": "df_copy.device_screen_resolution.nunique()",
   "id": "172e5e8c3a6b3f1c",
   "outputs": [
    {
     "data": {
      "text/plain": [
       "51"
      ]
     },
     "execution_count": 109,
     "metadata": {},
     "output_type": "execute_result"
    }
   ],
   "execution_count": 109
  },
  {
   "metadata": {
    "ExecuteTime": {
     "end_time": "2025-04-02T10:10:53.924023Z",
     "start_time": "2025-04-02T10:10:53.878138Z"
    }
   },
   "cell_type": "code",
   "source": "df_copy.utm_keyword.nunique()",
   "id": "48be2a9bedc77ead",
   "outputs": [
    {
     "data": {
      "text/plain": [
       "51"
      ]
     },
     "execution_count": 110,
     "metadata": {},
     "output_type": "execute_result"
    }
   ],
   "execution_count": 110
  },
  {
   "metadata": {
    "ExecuteTime": {
     "end_time": "2025-04-02T10:10:54.959588Z",
     "start_time": "2025-04-02T10:10:54.624087Z"
    }
   },
   "cell_type": "code",
   "source": "df_clean = df_copy.copy()",
   "id": "7120263916e53577",
   "outputs": [],
   "execution_count": 111
  },
  {
   "metadata": {
    "ExecuteTime": {
     "end_time": "2025-04-02T10:11:05.480081Z",
     "start_time": "2025-04-02T10:11:00.709005Z"
    }
   },
   "cell_type": "code",
   "source": "df_clean.to_csv('data/ga_sessions_clean.csv')",
   "id": "dc64e6d48c850d37",
   "outputs": [],
   "execution_count": 112
  },
  {
   "metadata": {},
   "cell_type": "markdown",
   "source": [
    "На основе данных визуализаций можно понять огромное количество аспектов для макретинговой аналитики и др.\n",
    "Но у меня роль является другой, поэтому идём дальше."
   ],
   "id": "aee71c1259f4e007"
  },
  {
   "metadata": {},
   "cell_type": "markdown",
   "source": "Все данные подготовлены, далее у нас идет feauture engineering",
   "id": "7b6432dc794284a8"
  },
  {
   "metadata": {
    "ExecuteTime": {
     "end_time": "2025-03-30T12:07:28.791124Z",
     "start_time": "2025-03-30T12:07:28.789534Z"
    }
   },
   "cell_type": "code",
   "source": "# Разработать новые фичи, как пример: is_premium_brand (например эпл, гугл, сони), big_city(больше 1 млн жителей), city_region(в какой части россии находится город)",
   "id": "4f632ec0d3bd92fd",
   "outputs": [],
   "execution_count": 43
  },
  {
   "metadata": {
    "ExecuteTime": {
     "end_time": "2025-04-05T15:34:11.599226Z",
     "start_time": "2025-04-05T15:34:05.418793Z"
    }
   },
   "cell_type": "code",
   "source": [
    "# df_hits = pd.read_csv('data/ga_hits-001.csv')\n",
    "df_hits = pd.read_csv('data/ga_hits_clean.csv')\n",
    "# df_hits.columns\n",
    "# df_hits.head()\n",
    "# df_hits = df_hits.drop(['hit_date', 'hit_time', 'hit_number', 'hit_type',\n",
    "#        'hit_referer', 'hit_page_path', 'event_category',\n",
    "#        'event_label', 'event_value'], axis=1)\n",
    "# df_hits.to_csv('data/ga_hits_clean.csv', index=False)"
   ],
   "id": "89d29ab193414e42",
   "outputs": [],
   "execution_count": 3
  },
  {
   "metadata": {
    "ExecuteTime": {
     "end_time": "2025-04-05T15:34:13.841828Z",
     "start_time": "2025-04-05T15:34:11.606228Z"
    }
   },
   "cell_type": "code",
   "source": [
    "df_clean = pd.read_csv('data/ga_sessions_clean.csv')\n",
    "df_clean.head()"
   ],
   "id": "5b3db704beb19ad5",
   "outputs": [
    {
     "data": {
      "text/plain": [
       "                                  session_id            utm_source utm_medium  \\\n",
       "0  9055434745589932991.1637753792.1637753792  ZpYIoDJMcFzVoPFsHGJL     banner   \n",
       "1   905544597018549464.1636867290.1636867290  MvfHsxITijuriZxsqZqt        cpm   \n",
       "2  9055446045651783499.1640648526.1640648526  ZpYIoDJMcFzVoPFsHGJL     banner   \n",
       "3  9055447046360770272.1622255328.1622255328  kjsLglQLzykiRbcDiGcD        cpc   \n",
       "4  9055447046360770272.1622255345.1622255345  kjsLglQLzykiRbcDiGcD        cpc   \n",
       "\n",
       "           utm_campaign         utm_adcontent           utm_keyword  \\\n",
       "0  LEoPHuyFvzoNfnzGgfcd  vCIpmpaGBnIQhyYNkXqp  puhZPIYqKXeFPaUviSjo   \n",
       "1  FTjNLDyTrXaWYgZymFkV  xhoenQgDQsgfEPYNPwKO  IGUCNvHlhfHpROGclCit   \n",
       "2  LEoPHuyFvzoNfnzGgfcd  vCIpmpaGBnIQhyYNkXqp  puhZPIYqKXeFPaUviSjo   \n",
       "3                463481  NOBKLgtuvqYWkXQHeYWM                506819   \n",
       "4                463481               1006599                506819   \n",
       "\n",
       "  device_category device_os device_brand device_screen_resolution  \\\n",
       "0          mobile   Android       Huawei                  360x720   \n",
       "1          mobile   Android      Samsung                  385x854   \n",
       "2          mobile   Android       Huawei                  360x720   \n",
       "3          mobile   Android       Xiaomi                  393x786   \n",
       "4          mobile   Android       Xiaomi                  393x786   \n",
       "\n",
       "     device_browser geo_country     geo_city  \n",
       "0            Chrome      Russia     Zlatoust  \n",
       "1  Samsung Internet      Russia       Moscow  \n",
       "2            Chrome      Russia  Krasnoyarsk  \n",
       "3            Chrome      Russia       Moscow  \n",
       "4            Chrome      Russia       Moscow  "
      ],
      "text/html": [
       "<div>\n",
       "<style scoped>\n",
       "    .dataframe tbody tr th:only-of-type {\n",
       "        vertical-align: middle;\n",
       "    }\n",
       "\n",
       "    .dataframe tbody tr th {\n",
       "        vertical-align: top;\n",
       "    }\n",
       "\n",
       "    .dataframe thead th {\n",
       "        text-align: right;\n",
       "    }\n",
       "</style>\n",
       "<table border=\"1\" class=\"dataframe\">\n",
       "  <thead>\n",
       "    <tr style=\"text-align: right;\">\n",
       "      <th></th>\n",
       "      <th>session_id</th>\n",
       "      <th>utm_source</th>\n",
       "      <th>utm_medium</th>\n",
       "      <th>utm_campaign</th>\n",
       "      <th>utm_adcontent</th>\n",
       "      <th>utm_keyword</th>\n",
       "      <th>device_category</th>\n",
       "      <th>device_os</th>\n",
       "      <th>device_brand</th>\n",
       "      <th>device_screen_resolution</th>\n",
       "      <th>device_browser</th>\n",
       "      <th>geo_country</th>\n",
       "      <th>geo_city</th>\n",
       "    </tr>\n",
       "  </thead>\n",
       "  <tbody>\n",
       "    <tr>\n",
       "      <th>0</th>\n",
       "      <td>9055434745589932991.1637753792.1637753792</td>\n",
       "      <td>ZpYIoDJMcFzVoPFsHGJL</td>\n",
       "      <td>banner</td>\n",
       "      <td>LEoPHuyFvzoNfnzGgfcd</td>\n",
       "      <td>vCIpmpaGBnIQhyYNkXqp</td>\n",
       "      <td>puhZPIYqKXeFPaUviSjo</td>\n",
       "      <td>mobile</td>\n",
       "      <td>Android</td>\n",
       "      <td>Huawei</td>\n",
       "      <td>360x720</td>\n",
       "      <td>Chrome</td>\n",
       "      <td>Russia</td>\n",
       "      <td>Zlatoust</td>\n",
       "    </tr>\n",
       "    <tr>\n",
       "      <th>1</th>\n",
       "      <td>905544597018549464.1636867290.1636867290</td>\n",
       "      <td>MvfHsxITijuriZxsqZqt</td>\n",
       "      <td>cpm</td>\n",
       "      <td>FTjNLDyTrXaWYgZymFkV</td>\n",
       "      <td>xhoenQgDQsgfEPYNPwKO</td>\n",
       "      <td>IGUCNvHlhfHpROGclCit</td>\n",
       "      <td>mobile</td>\n",
       "      <td>Android</td>\n",
       "      <td>Samsung</td>\n",
       "      <td>385x854</td>\n",
       "      <td>Samsung Internet</td>\n",
       "      <td>Russia</td>\n",
       "      <td>Moscow</td>\n",
       "    </tr>\n",
       "    <tr>\n",
       "      <th>2</th>\n",
       "      <td>9055446045651783499.1640648526.1640648526</td>\n",
       "      <td>ZpYIoDJMcFzVoPFsHGJL</td>\n",
       "      <td>banner</td>\n",
       "      <td>LEoPHuyFvzoNfnzGgfcd</td>\n",
       "      <td>vCIpmpaGBnIQhyYNkXqp</td>\n",
       "      <td>puhZPIYqKXeFPaUviSjo</td>\n",
       "      <td>mobile</td>\n",
       "      <td>Android</td>\n",
       "      <td>Huawei</td>\n",
       "      <td>360x720</td>\n",
       "      <td>Chrome</td>\n",
       "      <td>Russia</td>\n",
       "      <td>Krasnoyarsk</td>\n",
       "    </tr>\n",
       "    <tr>\n",
       "      <th>3</th>\n",
       "      <td>9055447046360770272.1622255328.1622255328</td>\n",
       "      <td>kjsLglQLzykiRbcDiGcD</td>\n",
       "      <td>cpc</td>\n",
       "      <td>463481</td>\n",
       "      <td>NOBKLgtuvqYWkXQHeYWM</td>\n",
       "      <td>506819</td>\n",
       "      <td>mobile</td>\n",
       "      <td>Android</td>\n",
       "      <td>Xiaomi</td>\n",
       "      <td>393x786</td>\n",
       "      <td>Chrome</td>\n",
       "      <td>Russia</td>\n",
       "      <td>Moscow</td>\n",
       "    </tr>\n",
       "    <tr>\n",
       "      <th>4</th>\n",
       "      <td>9055447046360770272.1622255345.1622255345</td>\n",
       "      <td>kjsLglQLzykiRbcDiGcD</td>\n",
       "      <td>cpc</td>\n",
       "      <td>463481</td>\n",
       "      <td>1006599</td>\n",
       "      <td>506819</td>\n",
       "      <td>mobile</td>\n",
       "      <td>Android</td>\n",
       "      <td>Xiaomi</td>\n",
       "      <td>393x786</td>\n",
       "      <td>Chrome</td>\n",
       "      <td>Russia</td>\n",
       "      <td>Moscow</td>\n",
       "    </tr>\n",
       "  </tbody>\n",
       "</table>\n",
       "</div>"
      ]
     },
     "execution_count": 4,
     "metadata": {},
     "output_type": "execute_result"
    }
   ],
   "execution_count": 4
  },
  {
   "metadata": {
    "ExecuteTime": {
     "end_time": "2025-04-05T15:34:14.121328Z",
     "start_time": "2025-04-05T15:34:13.872566Z"
    }
   },
   "cell_type": "code",
   "source": [
    "df_clean = df_clean.set_index('session_id')\n",
    "df_hits = df_hits.set_index('session_id')"
   ],
   "id": "ffb08f33dc492a85",
   "outputs": [],
   "execution_count": 5
  },
  {
   "metadata": {
    "ExecuteTime": {
     "end_time": "2025-04-05T15:34:14.717454Z",
     "start_time": "2025-04-05T15:34:14.204230Z"
    }
   },
   "cell_type": "code",
   "source": "(df_hits.event_action.value_counts()/len(df_hits)*100).round(2).head()",
   "id": "808ad23e3f9e63a0",
   "outputs": [
    {
     "data": {
      "text/plain": [
       "event_action\n",
       "view_card              22.63\n",
       "view_new_card          22.58\n",
       "sub_landing            11.43\n",
       "go_to_car_card          6.19\n",
       "sub_view_cars_click     5.03\n",
       "Name: count, dtype: float64"
      ]
     },
     "execution_count": 6,
     "metadata": {},
     "output_type": "execute_result"
    }
   ],
   "execution_count": 6
  },
  {
   "metadata": {
    "ExecuteTime": {
     "end_time": "2025-04-05T15:34:20.934288Z",
     "start_time": "2025-04-05T15:34:14.736380Z"
    }
   },
   "cell_type": "code",
   "source": [
    "df_hits_unique_index = df_hits[~df_hits.index.duplicated(keep='first')]\n",
    "\n",
    "# Выполнение left join\n",
    "merged_df = pd.merge(df_clean, df_hits_unique_index, left_index=True, right_index=True, how='left')\n",
    "\n",
    "# merged_df = pd.merge(df_clean, df_hits, how='inner', on='session_id')\n",
    "# merged_df = merged_df.drop_duplicates()\n",
    "# merged_df.head()"
   ],
   "id": "14de8fc9466aa580",
   "outputs": [],
   "execution_count": 7
  },
  {
   "metadata": {
    "ExecuteTime": {
     "end_time": "2025-04-05T15:34:20.966422Z",
     "start_time": "2025-04-05T15:34:20.960059Z"
    }
   },
   "cell_type": "code",
   "source": "merged_df.head()",
   "id": "1672e06a68c09e8b",
   "outputs": [
    {
     "data": {
      "text/plain": [
       "                                                     utm_source utm_medium  \\\n",
       "session_id                                                                   \n",
       "9055434745589932991.1637753792.1637753792  ZpYIoDJMcFzVoPFsHGJL     banner   \n",
       "905544597018549464.1636867290.1636867290   MvfHsxITijuriZxsqZqt        cpm   \n",
       "9055446045651783499.1640648526.1640648526  ZpYIoDJMcFzVoPFsHGJL     banner   \n",
       "9055447046360770272.1622255328.1622255328  kjsLglQLzykiRbcDiGcD        cpc   \n",
       "9055447046360770272.1622255345.1622255345  kjsLglQLzykiRbcDiGcD        cpc   \n",
       "\n",
       "                                                   utm_campaign  \\\n",
       "session_id                                                        \n",
       "9055434745589932991.1637753792.1637753792  LEoPHuyFvzoNfnzGgfcd   \n",
       "905544597018549464.1636867290.1636867290   FTjNLDyTrXaWYgZymFkV   \n",
       "9055446045651783499.1640648526.1640648526  LEoPHuyFvzoNfnzGgfcd   \n",
       "9055447046360770272.1622255328.1622255328                463481   \n",
       "9055447046360770272.1622255345.1622255345                463481   \n",
       "\n",
       "                                                  utm_adcontent  \\\n",
       "session_id                                                        \n",
       "9055434745589932991.1637753792.1637753792  vCIpmpaGBnIQhyYNkXqp   \n",
       "905544597018549464.1636867290.1636867290   xhoenQgDQsgfEPYNPwKO   \n",
       "9055446045651783499.1640648526.1640648526  vCIpmpaGBnIQhyYNkXqp   \n",
       "9055447046360770272.1622255328.1622255328  NOBKLgtuvqYWkXQHeYWM   \n",
       "9055447046360770272.1622255345.1622255345               1006599   \n",
       "\n",
       "                                                    utm_keyword  \\\n",
       "session_id                                                        \n",
       "9055434745589932991.1637753792.1637753792  puhZPIYqKXeFPaUviSjo   \n",
       "905544597018549464.1636867290.1636867290   IGUCNvHlhfHpROGclCit   \n",
       "9055446045651783499.1640648526.1640648526  puhZPIYqKXeFPaUviSjo   \n",
       "9055447046360770272.1622255328.1622255328                506819   \n",
       "9055447046360770272.1622255345.1622255345                506819   \n",
       "\n",
       "                                          device_category device_os  \\\n",
       "session_id                                                            \n",
       "9055434745589932991.1637753792.1637753792          mobile   Android   \n",
       "905544597018549464.1636867290.1636867290           mobile   Android   \n",
       "9055446045651783499.1640648526.1640648526          mobile   Android   \n",
       "9055447046360770272.1622255328.1622255328          mobile   Android   \n",
       "9055447046360770272.1622255345.1622255345          mobile   Android   \n",
       "\n",
       "                                          device_brand  \\\n",
       "session_id                                               \n",
       "9055434745589932991.1637753792.1637753792       Huawei   \n",
       "905544597018549464.1636867290.1636867290       Samsung   \n",
       "9055446045651783499.1640648526.1640648526       Huawei   \n",
       "9055447046360770272.1622255328.1622255328       Xiaomi   \n",
       "9055447046360770272.1622255345.1622255345       Xiaomi   \n",
       "\n",
       "                                          device_screen_resolution  \\\n",
       "session_id                                                           \n",
       "9055434745589932991.1637753792.1637753792                  360x720   \n",
       "905544597018549464.1636867290.1636867290                   385x854   \n",
       "9055446045651783499.1640648526.1640648526                  360x720   \n",
       "9055447046360770272.1622255328.1622255328                  393x786   \n",
       "9055447046360770272.1622255345.1622255345                  393x786   \n",
       "\n",
       "                                             device_browser geo_country  \\\n",
       "session_id                                                                \n",
       "9055434745589932991.1637753792.1637753792            Chrome      Russia   \n",
       "905544597018549464.1636867290.1636867290   Samsung Internet      Russia   \n",
       "9055446045651783499.1640648526.1640648526            Chrome      Russia   \n",
       "9055447046360770272.1622255328.1622255328            Chrome      Russia   \n",
       "9055447046360770272.1622255345.1622255345            Chrome      Russia   \n",
       "\n",
       "                                              geo_city        event_action  \n",
       "session_id                                                                  \n",
       "9055434745589932991.1637753792.1637753792     Zlatoust         sub_landing  \n",
       "905544597018549464.1636867290.1636867290        Moscow         sub_landing  \n",
       "9055446045651783499.1640648526.1640648526  Krasnoyarsk  search_form_region  \n",
       "9055447046360770272.1622255328.1622255328       Moscow         sub_landing  \n",
       "9055447046360770272.1622255345.1622255345       Moscow           quiz_show  "
      ],
      "text/html": [
       "<div>\n",
       "<style scoped>\n",
       "    .dataframe tbody tr th:only-of-type {\n",
       "        vertical-align: middle;\n",
       "    }\n",
       "\n",
       "    .dataframe tbody tr th {\n",
       "        vertical-align: top;\n",
       "    }\n",
       "\n",
       "    .dataframe thead th {\n",
       "        text-align: right;\n",
       "    }\n",
       "</style>\n",
       "<table border=\"1\" class=\"dataframe\">\n",
       "  <thead>\n",
       "    <tr style=\"text-align: right;\">\n",
       "      <th></th>\n",
       "      <th>utm_source</th>\n",
       "      <th>utm_medium</th>\n",
       "      <th>utm_campaign</th>\n",
       "      <th>utm_adcontent</th>\n",
       "      <th>utm_keyword</th>\n",
       "      <th>device_category</th>\n",
       "      <th>device_os</th>\n",
       "      <th>device_brand</th>\n",
       "      <th>device_screen_resolution</th>\n",
       "      <th>device_browser</th>\n",
       "      <th>geo_country</th>\n",
       "      <th>geo_city</th>\n",
       "      <th>event_action</th>\n",
       "    </tr>\n",
       "    <tr>\n",
       "      <th>session_id</th>\n",
       "      <th></th>\n",
       "      <th></th>\n",
       "      <th></th>\n",
       "      <th></th>\n",
       "      <th></th>\n",
       "      <th></th>\n",
       "      <th></th>\n",
       "      <th></th>\n",
       "      <th></th>\n",
       "      <th></th>\n",
       "      <th></th>\n",
       "      <th></th>\n",
       "      <th></th>\n",
       "    </tr>\n",
       "  </thead>\n",
       "  <tbody>\n",
       "    <tr>\n",
       "      <th>9055434745589932991.1637753792.1637753792</th>\n",
       "      <td>ZpYIoDJMcFzVoPFsHGJL</td>\n",
       "      <td>banner</td>\n",
       "      <td>LEoPHuyFvzoNfnzGgfcd</td>\n",
       "      <td>vCIpmpaGBnIQhyYNkXqp</td>\n",
       "      <td>puhZPIYqKXeFPaUviSjo</td>\n",
       "      <td>mobile</td>\n",
       "      <td>Android</td>\n",
       "      <td>Huawei</td>\n",
       "      <td>360x720</td>\n",
       "      <td>Chrome</td>\n",
       "      <td>Russia</td>\n",
       "      <td>Zlatoust</td>\n",
       "      <td>sub_landing</td>\n",
       "    </tr>\n",
       "    <tr>\n",
       "      <th>905544597018549464.1636867290.1636867290</th>\n",
       "      <td>MvfHsxITijuriZxsqZqt</td>\n",
       "      <td>cpm</td>\n",
       "      <td>FTjNLDyTrXaWYgZymFkV</td>\n",
       "      <td>xhoenQgDQsgfEPYNPwKO</td>\n",
       "      <td>IGUCNvHlhfHpROGclCit</td>\n",
       "      <td>mobile</td>\n",
       "      <td>Android</td>\n",
       "      <td>Samsung</td>\n",
       "      <td>385x854</td>\n",
       "      <td>Samsung Internet</td>\n",
       "      <td>Russia</td>\n",
       "      <td>Moscow</td>\n",
       "      <td>sub_landing</td>\n",
       "    </tr>\n",
       "    <tr>\n",
       "      <th>9055446045651783499.1640648526.1640648526</th>\n",
       "      <td>ZpYIoDJMcFzVoPFsHGJL</td>\n",
       "      <td>banner</td>\n",
       "      <td>LEoPHuyFvzoNfnzGgfcd</td>\n",
       "      <td>vCIpmpaGBnIQhyYNkXqp</td>\n",
       "      <td>puhZPIYqKXeFPaUviSjo</td>\n",
       "      <td>mobile</td>\n",
       "      <td>Android</td>\n",
       "      <td>Huawei</td>\n",
       "      <td>360x720</td>\n",
       "      <td>Chrome</td>\n",
       "      <td>Russia</td>\n",
       "      <td>Krasnoyarsk</td>\n",
       "      <td>search_form_region</td>\n",
       "    </tr>\n",
       "    <tr>\n",
       "      <th>9055447046360770272.1622255328.1622255328</th>\n",
       "      <td>kjsLglQLzykiRbcDiGcD</td>\n",
       "      <td>cpc</td>\n",
       "      <td>463481</td>\n",
       "      <td>NOBKLgtuvqYWkXQHeYWM</td>\n",
       "      <td>506819</td>\n",
       "      <td>mobile</td>\n",
       "      <td>Android</td>\n",
       "      <td>Xiaomi</td>\n",
       "      <td>393x786</td>\n",
       "      <td>Chrome</td>\n",
       "      <td>Russia</td>\n",
       "      <td>Moscow</td>\n",
       "      <td>sub_landing</td>\n",
       "    </tr>\n",
       "    <tr>\n",
       "      <th>9055447046360770272.1622255345.1622255345</th>\n",
       "      <td>kjsLglQLzykiRbcDiGcD</td>\n",
       "      <td>cpc</td>\n",
       "      <td>463481</td>\n",
       "      <td>1006599</td>\n",
       "      <td>506819</td>\n",
       "      <td>mobile</td>\n",
       "      <td>Android</td>\n",
       "      <td>Xiaomi</td>\n",
       "      <td>393x786</td>\n",
       "      <td>Chrome</td>\n",
       "      <td>Russia</td>\n",
       "      <td>Moscow</td>\n",
       "      <td>quiz_show</td>\n",
       "    </tr>\n",
       "  </tbody>\n",
       "</table>\n",
       "</div>"
      ]
     },
     "execution_count": 8,
     "metadata": {},
     "output_type": "execute_result"
    }
   ],
   "execution_count": 8
  },
  {
   "metadata": {
    "ExecuteTime": {
     "end_time": "2025-04-05T15:34:20.998647Z",
     "start_time": "2025-04-05T15:34:20.995637Z"
    }
   },
   "cell_type": "code",
   "source": "merged_df.shape",
   "id": "e060b8fc872f79e8",
   "outputs": [
    {
     "data": {
      "text/plain": [
       "(1800469, 13)"
      ]
     },
     "execution_count": 9,
     "metadata": {},
     "output_type": "execute_result"
    }
   ],
   "execution_count": 9
  },
  {
   "metadata": {
    "ExecuteTime": {
     "end_time": "2025-04-05T15:34:21.074778Z",
     "start_time": "2025-04-05T15:34:21.071702Z"
    }
   },
   "cell_type": "code",
   "source": [
    "premium_brands = ['Apple',\n",
    "                  'Sony',\n",
    "                  'Google']\n",
    "\n",
    "big_cities =['Moscow',\n",
    "             'Saint Petersburg',\n",
    "             'Yekaterinburg',\n",
    "             'Krasnodar',\n",
    "             'Nizhny Novgorod']\n",
    "\n",
    "target_list = ['sub_car_claim_click', 'sub_car_claim_submit_click', 'sub_open_dialog_click', 'sub_custom_question_submit_click', 'sub_call_number_click', 'sub_callback_submit_click', 'sub_submit_success', 'sub_car_request_submit_click']"
   ],
   "id": "38b81c178126b949",
   "outputs": [],
   "execution_count": 10
  },
  {
   "metadata": {
    "ExecuteTime": {
     "end_time": "2025-04-05T15:34:21.192871Z",
     "start_time": "2025-04-05T15:34:21.120827Z"
    }
   },
   "cell_type": "code",
   "source": "merged_df.event_action.value_counts()",
   "id": "b803eb33ce303e97",
   "outputs": [
    {
     "data": {
      "text/plain": [
       "event_action\n",
       "sub_landing                  819885\n",
       "view_card                    257678\n",
       "view_new_card                135962\n",
       "sub_view_cars_click          117301\n",
       "go_to_car_card                48730\n",
       "                              ...  \n",
       "greenday_sub_landing              1\n",
       "click_credit                      1\n",
       "greenday_sub_submit_error         1\n",
       "click_sell                        1\n",
       "close_form                        1\n",
       "Name: count, Length: 172, dtype: int64"
      ]
     },
     "execution_count": 11,
     "metadata": {},
     "output_type": "execute_result"
    }
   ],
   "execution_count": 11
  },
  {
   "metadata": {
    "ExecuteTime": {
     "end_time": "2025-04-05T15:34:44.617964Z",
     "start_time": "2025-04-05T15:34:21.219456Z"
    }
   },
   "cell_type": "code",
   "source": [
    "merged_df['big_city'] = merged_df.apply(lambda x: 1 if x.geo_city in big_cities else 0, axis=1)\n",
    "merged_df['is_premium'] = merged_df.apply(lambda x: 1 if x.device_brand in premium_brands else 0, axis=1)\n",
    "merged_df['target'] = merged_df.apply(lambda x: 1 if x.event_action in target_list else 0, axis=1)\n",
    "merged_df = merged_df.drop(['event_action'], axis=1)"
   ],
   "id": "1721c774546fab03",
   "outputs": [],
   "execution_count": 12
  },
  {
   "metadata": {
    "ExecuteTime": {
     "end_time": "2025-04-05T15:34:44.640711Z",
     "start_time": "2025-04-05T15:34:44.638329Z"
    }
   },
   "cell_type": "code",
   "source": "",
   "id": "592976a92486ae0e",
   "outputs": [],
   "execution_count": null
  },
  {
   "metadata": {
    "ExecuteTime": {
     "end_time": "2025-04-05T15:34:44.655986Z",
     "start_time": "2025-04-05T15:34:44.653224Z"
    }
   },
   "cell_type": "code",
   "source": [
    "# Теперь преобразуем категориальные переменные с помощью OneHotEncoder.\n",
    "merged_df.columns"
   ],
   "id": "304df540461790eb",
   "outputs": [
    {
     "data": {
      "text/plain": [
       "Index(['utm_source', 'utm_medium', 'utm_campaign', 'utm_adcontent',\n",
       "       'utm_keyword', 'device_category', 'device_os', 'device_brand',\n",
       "       'device_screen_resolution', 'device_browser', 'geo_country', 'geo_city',\n",
       "       'big_city', 'is_premium', 'target'],\n",
       "      dtype='object')"
      ]
     },
     "execution_count": 13,
     "metadata": {},
     "output_type": "execute_result"
    }
   ],
   "execution_count": 13
  },
  {
   "metadata": {
    "ExecuteTime": {
     "end_time": "2025-04-05T15:34:44.689133Z",
     "start_time": "2025-04-05T15:34:44.686031Z"
    }
   },
   "cell_type": "code",
   "source": "ohe = OneHotEncoder(handle_unknown='ignore')",
   "id": "da552010be87c537",
   "outputs": [],
   "execution_count": 14
  },
  {
   "metadata": {
    "ExecuteTime": {
     "end_time": "2025-04-05T15:34:44.733852Z",
     "start_time": "2025-04-05T15:34:44.705410Z"
    }
   },
   "cell_type": "code",
   "source": [
    "# 1. Сохраняем удаляемые столбцы + индекс\n",
    "preserved_data = merged_df[['is_premium', 'big_city', 'target']].copy()"
   ],
   "id": "c54ee91008623fec",
   "outputs": [],
   "execution_count": 15
  },
  {
   "metadata": {
    "ExecuteTime": {
     "end_time": "2025-04-05T15:34:47.689154Z",
     "start_time": "2025-04-05T15:34:44.745854Z"
    }
   },
   "cell_type": "code",
   "source": [
    "X = merged_df.drop(['is_premium', 'big_city', 'target'], axis=1)\n",
    "ohe_result = ohe.fit_transform(X)"
   ],
   "id": "da4c01a8a182a978",
   "outputs": [],
   "execution_count": 16
  },
  {
   "metadata": {
    "ExecuteTime": {
     "end_time": "2025-04-05T15:34:47.846015Z",
     "start_time": "2025-04-05T15:34:47.700183Z"
    }
   },
   "cell_type": "code",
   "source": [
    "# 3. Создаем DataFrame с тем же индексом\n",
    "df_ohe = pd.DataFrame.sparse.from_spmatrix(\n",
    "    ohe_result,\n",
    "    index=X.index,  # используем индекс исходного X\n",
    "    columns=ohe.get_feature_names_out(input_features=X.columns)\n",
    ")"
   ],
   "id": "9f07962f4fd7e257",
   "outputs": [],
   "execution_count": 17
  },
  {
   "metadata": {
    "ExecuteTime": {
     "end_time": "2025-04-05T15:34:49.286644Z",
     "start_time": "2025-04-05T15:34:47.891661Z"
    }
   },
   "cell_type": "code",
   "source": [
    "df_ohe = df_ohe.merge(preserved_data, how='inner', on='session_id')\n",
    "df_ohe.head()"
   ],
   "id": "31bc3cfd91f514de",
   "outputs": [
    {
     "data": {
      "text/plain": [
       "                                           utm_source_AHgbtEjTEsiUMJouiDYS  \\\n",
       "session_id                                                                   \n",
       "9055434745589932991.1637753792.1637753792                                0   \n",
       "905544597018549464.1636867290.1636867290                                 0   \n",
       "9055446045651783499.1640648526.1640648526                                0   \n",
       "9055447046360770272.1622255328.1622255328                                0   \n",
       "9055447046360770272.1622255345.1622255345                                0   \n",
       "\n",
       "                                           utm_source_ANoZJgYuPrWNkAAchryx  \\\n",
       "session_id                                                                   \n",
       "9055434745589932991.1637753792.1637753792                                0   \n",
       "905544597018549464.1636867290.1636867290                                 0   \n",
       "9055446045651783499.1640648526.1640648526                                0   \n",
       "9055447046360770272.1622255328.1622255328                                0   \n",
       "9055447046360770272.1622255345.1622255345                                0   \n",
       "\n",
       "                                           utm_source_ArbfvYgWhqxkzywKqpQf  \\\n",
       "session_id                                                                   \n",
       "9055434745589932991.1637753792.1637753792                                0   \n",
       "905544597018549464.1636867290.1636867290                                 0   \n",
       "9055446045651783499.1640648526.1640648526                                0   \n",
       "9055447046360770272.1622255328.1622255328                                0   \n",
       "9055447046360770272.1622255345.1622255345                                0   \n",
       "\n",
       "                                           utm_source_AuJjYKxJakEqFnCmyFtz  \\\n",
       "session_id                                                                   \n",
       "9055434745589932991.1637753792.1637753792                                0   \n",
       "905544597018549464.1636867290.1636867290                                 0   \n",
       "9055446045651783499.1640648526.1640648526                                0   \n",
       "9055447046360770272.1622255328.1622255328                                0   \n",
       "9055447046360770272.1622255345.1622255345                                0   \n",
       "\n",
       "                                           utm_source_BAZCuyHZnaPrMGOMrcCQ  \\\n",
       "session_id                                                                   \n",
       "9055434745589932991.1637753792.1637753792                                0   \n",
       "905544597018549464.1636867290.1636867290                                 0   \n",
       "9055446045651783499.1640648526.1640648526                                0   \n",
       "9055447046360770272.1622255328.1622255328                                0   \n",
       "9055447046360770272.1622255345.1622255345                                0   \n",
       "\n",
       "                                           utm_source_BHcvLfOaCWvWTykYqHVe  \\\n",
       "session_id                                                                   \n",
       "9055434745589932991.1637753792.1637753792                                0   \n",
       "905544597018549464.1636867290.1636867290                                 0   \n",
       "9055446045651783499.1640648526.1640648526                                0   \n",
       "9055447046360770272.1622255328.1622255328                                0   \n",
       "9055447046360770272.1622255345.1622255345                                0   \n",
       "\n",
       "                                           utm_source_BKeImrJuRDZcHiSSTdzm  \\\n",
       "session_id                                                                   \n",
       "9055434745589932991.1637753792.1637753792                                0   \n",
       "905544597018549464.1636867290.1636867290                                 0   \n",
       "9055446045651783499.1640648526.1640648526                                0   \n",
       "9055447046360770272.1622255328.1622255328                                0   \n",
       "9055447046360770272.1622255345.1622255345                                0   \n",
       "\n",
       "                                           utm_source_BTOBxRcZAuMDAGcpupRx  \\\n",
       "session_id                                                                   \n",
       "9055434745589932991.1637753792.1637753792                                0   \n",
       "905544597018549464.1636867290.1636867290                                 0   \n",
       "9055446045651783499.1640648526.1640648526                                0   \n",
       "9055447046360770272.1622255328.1622255328                                0   \n",
       "9055447046360770272.1622255345.1622255345                                0   \n",
       "\n",
       "                                           utm_source_BellrslNBZQZaIxVFGXJ  \\\n",
       "session_id                                                                   \n",
       "9055434745589932991.1637753792.1637753792                                0   \n",
       "905544597018549464.1636867290.1636867290                                 0   \n",
       "9055446045651783499.1640648526.1640648526                                0   \n",
       "9055447046360770272.1622255328.1622255328                                0   \n",
       "9055447046360770272.1622255345.1622255345                                0   \n",
       "\n",
       "                                           utm_source_BmzdZLeVUBKtYeegQdDw  \\\n",
       "session_id                                                                   \n",
       "9055434745589932991.1637753792.1637753792                                0   \n",
       "905544597018549464.1636867290.1636867290                                 0   \n",
       "9055446045651783499.1640648526.1640648526                                0   \n",
       "9055447046360770272.1622255328.1622255328                                0   \n",
       "9055447046360770272.1622255345.1622255345                                0   \n",
       "\n",
       "                                           ...  geo_city_Zhukovskiy  \\\n",
       "session_id                                 ...                        \n",
       "9055434745589932991.1637753792.1637753792  ...                    0   \n",
       "905544597018549464.1636867290.1636867290   ...                    0   \n",
       "9055446045651783499.1640648526.1640648526  ...                    0   \n",
       "9055447046360770272.1622255328.1622255328  ...                    0   \n",
       "9055447046360770272.1622255345.1622255345  ...                    0   \n",
       "\n",
       "                                           geo_city_Zlatoust  \\\n",
       "session_id                                                     \n",
       "9055434745589932991.1637753792.1637753792                1.0   \n",
       "905544597018549464.1636867290.1636867290                   0   \n",
       "9055446045651783499.1640648526.1640648526                  0   \n",
       "9055447046360770272.1622255328.1622255328                  0   \n",
       "9055447046360770272.1622255345.1622255345                  0   \n",
       "\n",
       "                                           geo_city_Znamenskiy  \\\n",
       "session_id                                                       \n",
       "9055434745589932991.1637753792.1637753792                    0   \n",
       "905544597018549464.1636867290.1636867290                     0   \n",
       "9055446045651783499.1640648526.1640648526                    0   \n",
       "9055447046360770272.1622255328.1622255328                    0   \n",
       "9055447046360770272.1622255345.1622255345                    0   \n",
       "\n",
       "                                           geo_city_Zvenigorod  \\\n",
       "session_id                                                       \n",
       "9055434745589932991.1637753792.1637753792                    0   \n",
       "905544597018549464.1636867290.1636867290                     0   \n",
       "9055446045651783499.1640648526.1640648526                    0   \n",
       "9055447046360770272.1622255328.1622255328                    0   \n",
       "9055447046360770272.1622255345.1622255345                    0   \n",
       "\n",
       "                                           geo_city_Тарасовка  \\\n",
       "session_id                                                      \n",
       "9055434745589932991.1637753792.1637753792                   0   \n",
       "905544597018549464.1636867290.1636867290                    0   \n",
       "9055446045651783499.1640648526.1640648526                   0   \n",
       "9055447046360770272.1622255328.1622255328                   0   \n",
       "9055447046360770272.1622255345.1622255345                   0   \n",
       "\n",
       "                                           geo_city_Тимофеевка  \\\n",
       "session_id                                                       \n",
       "9055434745589932991.1637753792.1637753792                    0   \n",
       "905544597018549464.1636867290.1636867290                     0   \n",
       "9055446045651783499.1640648526.1640648526                    0   \n",
       "9055447046360770272.1622255328.1622255328                    0   \n",
       "9055447046360770272.1622255345.1622255345                    0   \n",
       "\n",
       "                                           geo_city_Хомутово  is_premium  \\\n",
       "session_id                                                                 \n",
       "9055434745589932991.1637753792.1637753792                  0           0   \n",
       "905544597018549464.1636867290.1636867290                   0           0   \n",
       "9055446045651783499.1640648526.1640648526                  0           0   \n",
       "9055447046360770272.1622255328.1622255328                  0           0   \n",
       "9055447046360770272.1622255345.1622255345                  0           0   \n",
       "\n",
       "                                           big_city  target  \n",
       "session_id                                                   \n",
       "9055434745589932991.1637753792.1637753792         0       0  \n",
       "905544597018549464.1636867290.1636867290          1       0  \n",
       "9055446045651783499.1640648526.1640648526         0       0  \n",
       "9055447046360770272.1622255328.1622255328         1       0  \n",
       "9055447046360770272.1622255345.1622255345         1       0  \n",
       "\n",
       "[5 rows x 1824 columns]"
      ],
      "text/html": [
       "<div>\n",
       "<style scoped>\n",
       "    .dataframe tbody tr th:only-of-type {\n",
       "        vertical-align: middle;\n",
       "    }\n",
       "\n",
       "    .dataframe tbody tr th {\n",
       "        vertical-align: top;\n",
       "    }\n",
       "\n",
       "    .dataframe thead th {\n",
       "        text-align: right;\n",
       "    }\n",
       "</style>\n",
       "<table border=\"1\" class=\"dataframe\">\n",
       "  <thead>\n",
       "    <tr style=\"text-align: right;\">\n",
       "      <th></th>\n",
       "      <th>utm_source_AHgbtEjTEsiUMJouiDYS</th>\n",
       "      <th>utm_source_ANoZJgYuPrWNkAAchryx</th>\n",
       "      <th>utm_source_ArbfvYgWhqxkzywKqpQf</th>\n",
       "      <th>utm_source_AuJjYKxJakEqFnCmyFtz</th>\n",
       "      <th>utm_source_BAZCuyHZnaPrMGOMrcCQ</th>\n",
       "      <th>utm_source_BHcvLfOaCWvWTykYqHVe</th>\n",
       "      <th>utm_source_BKeImrJuRDZcHiSSTdzm</th>\n",
       "      <th>utm_source_BTOBxRcZAuMDAGcpupRx</th>\n",
       "      <th>utm_source_BellrslNBZQZaIxVFGXJ</th>\n",
       "      <th>utm_source_BmzdZLeVUBKtYeegQdDw</th>\n",
       "      <th>...</th>\n",
       "      <th>geo_city_Zhukovskiy</th>\n",
       "      <th>geo_city_Zlatoust</th>\n",
       "      <th>geo_city_Znamenskiy</th>\n",
       "      <th>geo_city_Zvenigorod</th>\n",
       "      <th>geo_city_Тарасовка</th>\n",
       "      <th>geo_city_Тимофеевка</th>\n",
       "      <th>geo_city_Хомутово</th>\n",
       "      <th>is_premium</th>\n",
       "      <th>big_city</th>\n",
       "      <th>target</th>\n",
       "    </tr>\n",
       "    <tr>\n",
       "      <th>session_id</th>\n",
       "      <th></th>\n",
       "      <th></th>\n",
       "      <th></th>\n",
       "      <th></th>\n",
       "      <th></th>\n",
       "      <th></th>\n",
       "      <th></th>\n",
       "      <th></th>\n",
       "      <th></th>\n",
       "      <th></th>\n",
       "      <th></th>\n",
       "      <th></th>\n",
       "      <th></th>\n",
       "      <th></th>\n",
       "      <th></th>\n",
       "      <th></th>\n",
       "      <th></th>\n",
       "      <th></th>\n",
       "      <th></th>\n",
       "      <th></th>\n",
       "      <th></th>\n",
       "    </tr>\n",
       "  </thead>\n",
       "  <tbody>\n",
       "    <tr>\n",
       "      <th>9055434745589932991.1637753792.1637753792</th>\n",
       "      <td>0</td>\n",
       "      <td>0</td>\n",
       "      <td>0</td>\n",
       "      <td>0</td>\n",
       "      <td>0</td>\n",
       "      <td>0</td>\n",
       "      <td>0</td>\n",
       "      <td>0</td>\n",
       "      <td>0</td>\n",
       "      <td>0</td>\n",
       "      <td>...</td>\n",
       "      <td>0</td>\n",
       "      <td>1.0</td>\n",
       "      <td>0</td>\n",
       "      <td>0</td>\n",
       "      <td>0</td>\n",
       "      <td>0</td>\n",
       "      <td>0</td>\n",
       "      <td>0</td>\n",
       "      <td>0</td>\n",
       "      <td>0</td>\n",
       "    </tr>\n",
       "    <tr>\n",
       "      <th>905544597018549464.1636867290.1636867290</th>\n",
       "      <td>0</td>\n",
       "      <td>0</td>\n",
       "      <td>0</td>\n",
       "      <td>0</td>\n",
       "      <td>0</td>\n",
       "      <td>0</td>\n",
       "      <td>0</td>\n",
       "      <td>0</td>\n",
       "      <td>0</td>\n",
       "      <td>0</td>\n",
       "      <td>...</td>\n",
       "      <td>0</td>\n",
       "      <td>0</td>\n",
       "      <td>0</td>\n",
       "      <td>0</td>\n",
       "      <td>0</td>\n",
       "      <td>0</td>\n",
       "      <td>0</td>\n",
       "      <td>0</td>\n",
       "      <td>1</td>\n",
       "      <td>0</td>\n",
       "    </tr>\n",
       "    <tr>\n",
       "      <th>9055446045651783499.1640648526.1640648526</th>\n",
       "      <td>0</td>\n",
       "      <td>0</td>\n",
       "      <td>0</td>\n",
       "      <td>0</td>\n",
       "      <td>0</td>\n",
       "      <td>0</td>\n",
       "      <td>0</td>\n",
       "      <td>0</td>\n",
       "      <td>0</td>\n",
       "      <td>0</td>\n",
       "      <td>...</td>\n",
       "      <td>0</td>\n",
       "      <td>0</td>\n",
       "      <td>0</td>\n",
       "      <td>0</td>\n",
       "      <td>0</td>\n",
       "      <td>0</td>\n",
       "      <td>0</td>\n",
       "      <td>0</td>\n",
       "      <td>0</td>\n",
       "      <td>0</td>\n",
       "    </tr>\n",
       "    <tr>\n",
       "      <th>9055447046360770272.1622255328.1622255328</th>\n",
       "      <td>0</td>\n",
       "      <td>0</td>\n",
       "      <td>0</td>\n",
       "      <td>0</td>\n",
       "      <td>0</td>\n",
       "      <td>0</td>\n",
       "      <td>0</td>\n",
       "      <td>0</td>\n",
       "      <td>0</td>\n",
       "      <td>0</td>\n",
       "      <td>...</td>\n",
       "      <td>0</td>\n",
       "      <td>0</td>\n",
       "      <td>0</td>\n",
       "      <td>0</td>\n",
       "      <td>0</td>\n",
       "      <td>0</td>\n",
       "      <td>0</td>\n",
       "      <td>0</td>\n",
       "      <td>1</td>\n",
       "      <td>0</td>\n",
       "    </tr>\n",
       "    <tr>\n",
       "      <th>9055447046360770272.1622255345.1622255345</th>\n",
       "      <td>0</td>\n",
       "      <td>0</td>\n",
       "      <td>0</td>\n",
       "      <td>0</td>\n",
       "      <td>0</td>\n",
       "      <td>0</td>\n",
       "      <td>0</td>\n",
       "      <td>0</td>\n",
       "      <td>0</td>\n",
       "      <td>0</td>\n",
       "      <td>...</td>\n",
       "      <td>0</td>\n",
       "      <td>0</td>\n",
       "      <td>0</td>\n",
       "      <td>0</td>\n",
       "      <td>0</td>\n",
       "      <td>0</td>\n",
       "      <td>0</td>\n",
       "      <td>0</td>\n",
       "      <td>1</td>\n",
       "      <td>0</td>\n",
       "    </tr>\n",
       "  </tbody>\n",
       "</table>\n",
       "<p>5 rows × 1824 columns</p>\n",
       "</div>"
      ]
     },
     "execution_count": 18,
     "metadata": {},
     "output_type": "execute_result"
    }
   ],
   "execution_count": 18
  },
  {
   "metadata": {
    "ExecuteTime": {
     "end_time": "2025-04-05T15:34:49.503685Z",
     "start_time": "2025-04-05T15:34:49.500708Z"
    }
   },
   "cell_type": "code",
   "source": "df_ohe.shape",
   "id": "198fd871b700465a",
   "outputs": [
    {
     "data": {
      "text/plain": [
       "(1800469, 1824)"
      ]
     },
     "execution_count": 19,
     "metadata": {},
     "output_type": "execute_result"
    }
   ],
   "execution_count": 19
  },
  {
   "metadata": {
    "ExecuteTime": {
     "end_time": "2025-04-05T15:34:49.513619Z",
     "start_time": "2025-04-05T15:34:49.511193Z"
    }
   },
   "cell_type": "code",
   "source": "# df_ohe.to_csv('data/df_ohe.csv')",
   "id": "31129b494061fd55",
   "outputs": [],
   "execution_count": 20
  },
  {
   "metadata": {
    "ExecuteTime": {
     "end_time": "2025-04-05T15:34:49.533649Z",
     "start_time": "2025-04-05T15:34:49.530629Z"
    }
   },
   "cell_type": "code",
   "source": "X.columns",
   "id": "3cdf5e0f5cb15f25",
   "outputs": [
    {
     "data": {
      "text/plain": [
       "Index(['utm_source', 'utm_medium', 'utm_campaign', 'utm_adcontent',\n",
       "       'utm_keyword', 'device_category', 'device_os', 'device_brand',\n",
       "       'device_screen_resolution', 'device_browser', 'geo_country',\n",
       "       'geo_city'],\n",
       "      dtype='object')"
      ]
     },
     "execution_count": 21,
     "metadata": {},
     "output_type": "execute_result"
    }
   ],
   "execution_count": 21
  },
  {
   "metadata": {},
   "cell_type": "markdown",
   "source": "Modelling",
   "id": "e01a7d3e7d779324"
  },
  {
   "metadata": {
    "ExecuteTime": {
     "end_time": "2025-04-05T15:34:49.562391Z",
     "start_time": "2025-04-05T15:34:49.560633Z"
    }
   },
   "cell_type": "code",
   "source": "# Здесь будем делать моделирование нашей модели.",
   "id": "6975a289e80c9ad4",
   "outputs": [],
   "execution_count": 22
  },
  {
   "metadata": {
    "ExecuteTime": {
     "end_time": "2025-04-05T15:34:49.794875Z",
     "start_time": "2025-04-05T15:34:49.758902Z"
    }
   },
   "cell_type": "code",
   "source": [
    "x = df_ohe.drop(['target'], axis=1)\n",
    "y = df_ohe['target']"
   ],
   "id": "545833fb5841fc9c",
   "outputs": [],
   "execution_count": 23
  },
  {
   "metadata": {
    "ExecuteTime": {
     "end_time": "2025-04-05T15:34:50.929147Z",
     "start_time": "2025-04-05T15:34:50.925284Z"
    }
   },
   "cell_type": "code",
   "source": [
    "models = [\n",
    "    MLPClassifier(activation='logistic', hidden_layer_sizes=(256, 128, 64), random_state=42),\n",
    "    RandomForestClassifier(n_estimators=100, n_jobs=-1, random_state=42, max_depth=5),\n",
    "    LogisticRegression(solver='liblinear', random_state=42, max_iter=100),\n",
    "]\n"
   ],
   "id": "d5454baf186aae7a",
   "outputs": [],
   "execution_count": 24
  },
  {
   "metadata": {
    "ExecuteTime": {
     "end_time": "2025-04-05T16:21:40.906593Z",
     "start_time": "2025-04-05T15:34:51.309932Z"
    }
   },
   "cell_type": "code",
   "source": [
    "for m in models:\n",
    "    score = cross_val_score(m, x, y, cv=2, scoring='roc_auc')\n",
    "    print(f'model: {type(m).__name__}, roc_auc_mean: {score.mean():.4f}, roc_auc_std: {score.std():.4f}')\n"
   ],
   "id": "e894bc0d20a64891",
   "outputs": [
    {
     "name": "stderr",
     "output_type": "stream",
     "text": [
      "C:\\Users\\HoroL\\anaconda3\\envs\\myproject\\Lib\\site-packages\\sklearn\\utils\\validation.py:921: UserWarning: pandas.DataFrame with sparse columns found.It will be converted to a dense numpy array.\n",
      "  warnings.warn(\n",
      "C:\\Users\\HoroL\\anaconda3\\envs\\myproject\\Lib\\site-packages\\sklearn\\utils\\validation.py:921: UserWarning: pandas.DataFrame with sparse columns found.It will be converted to a dense numpy array.\n",
      "  warnings.warn(\n",
      "C:\\Users\\HoroL\\anaconda3\\envs\\myproject\\Lib\\site-packages\\sklearn\\utils\\validation.py:921: UserWarning: pandas.DataFrame with sparse columns found.It will be converted to a dense numpy array.\n",
      "  warnings.warn(\n",
      "C:\\Users\\HoroL\\anaconda3\\envs\\myproject\\Lib\\site-packages\\sklearn\\utils\\validation.py:921: UserWarning: pandas.DataFrame with sparse columns found.It will be converted to a dense numpy array.\n",
      "  warnings.warn(\n"
     ]
    },
    {
     "name": "stdout",
     "output_type": "stream",
     "text": [
      "model: MLPClassifier, roc_auc_mean: 0.5788, roc_auc_std: 0.0650\n"
     ]
    },
    {
     "name": "stderr",
     "output_type": "stream",
     "text": [
      "C:\\Users\\HoroL\\anaconda3\\envs\\myproject\\Lib\\site-packages\\sklearn\\utils\\validation.py:921: UserWarning: pandas.DataFrame with sparse columns found.It will be converted to a dense numpy array.\n",
      "  warnings.warn(\n",
      "C:\\Users\\HoroL\\anaconda3\\envs\\myproject\\Lib\\site-packages\\sklearn\\utils\\validation.py:921: UserWarning: pandas.DataFrame with sparse columns found.It will be converted to a dense numpy array.\n",
      "  warnings.warn(\n",
      "C:\\Users\\HoroL\\anaconda3\\envs\\myproject\\Lib\\site-packages\\sklearn\\utils\\validation.py:921: UserWarning: pandas.DataFrame with sparse columns found.It will be converted to a dense numpy array.\n",
      "  warnings.warn(\n",
      "C:\\Users\\HoroL\\anaconda3\\envs\\myproject\\Lib\\site-packages\\sklearn\\utils\\validation.py:921: UserWarning: pandas.DataFrame with sparse columns found.It will be converted to a dense numpy array.\n",
      "  warnings.warn(\n"
     ]
    },
    {
     "name": "stdout",
     "output_type": "stream",
     "text": [
      "model: RandomForestClassifier, roc_auc_mean: 0.6121, roc_auc_std: 0.0115\n"
     ]
    },
    {
     "name": "stderr",
     "output_type": "stream",
     "text": [
      "C:\\Users\\HoroL\\anaconda3\\envs\\myproject\\Lib\\site-packages\\sklearn\\utils\\validation.py:921: UserWarning: pandas.DataFrame with sparse columns found.It will be converted to a dense numpy array.\n",
      "  warnings.warn(\n",
      "C:\\Users\\HoroL\\anaconda3\\envs\\myproject\\Lib\\site-packages\\sklearn\\utils\\validation.py:921: UserWarning: pandas.DataFrame with sparse columns found.It will be converted to a dense numpy array.\n",
      "  warnings.warn(\n",
      "C:\\Users\\HoroL\\anaconda3\\envs\\myproject\\Lib\\site-packages\\sklearn\\utils\\validation.py:921: UserWarning: pandas.DataFrame with sparse columns found.It will be converted to a dense numpy array.\n",
      "  warnings.warn(\n",
      "C:\\Users\\HoroL\\anaconda3\\envs\\myproject\\Lib\\site-packages\\sklearn\\utils\\validation.py:921: UserWarning: pandas.DataFrame with sparse columns found.It will be converted to a dense numpy array.\n",
      "  warnings.warn(\n"
     ]
    },
    {
     "name": "stdout",
     "output_type": "stream",
     "text": [
      "model: LogisticRegression, roc_auc_mean: 0.6495, roc_auc_std: 0.0040\n"
     ]
    }
   ],
   "execution_count": 25
  },
  {
   "metadata": {},
   "cell_type": "markdown",
   "source": [
    "Лучше всего себя показала\n",
    "model: LogisticRegression, roc_auc_mean: 0.6495, roc_auc_std: 0.0040\n",
    "Так же в процессе выполнения она оказалась самой быстрой из всех моделей."
   ],
   "id": "247b5756ef2d36e1"
  }
 ],
 "metadata": {
  "kernelspec": {
   "display_name": "Python 3",
   "language": "python",
   "name": "python3"
  },
  "language_info": {
   "codemirror_mode": {
    "name": "ipython",
    "version": 2
   },
   "file_extension": ".py",
   "mimetype": "text/x-python",
   "name": "python",
   "nbconvert_exporter": "python",
   "pygments_lexer": "ipython2",
   "version": "2.7.6"
  }
 },
 "nbformat": 4,
 "nbformat_minor": 5
}
